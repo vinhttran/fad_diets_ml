{
 "cells": [
  {
   "cell_type": "code",
   "execution_count": 189,
   "metadata": {},
   "outputs": [],
   "source": [
    "import json\n",
    "import pandas as pd\n",
    "import scipy as sp\n",
    "import scipy.stats as stats\n",
    "import matplotlib.pyplot as plt\n",
    "import re\n",
    "import multiprocessing\n",
    "import numpy as np\n",
    "from wit import Wit\n",
    "import pandas_profiling\n",
    "import shutil \n",
    "%matplotlib inline\n",
    "plt.style.use('ggplot')"
   ]
  },
  {
   "cell_type": "code",
   "execution_count": null,
   "metadata": {},
   "outputs": [],
   "source": [
    "# load and run helper functions\n",
    "%load \"fad_diets_functions.py\""
   ]
  },
  {
   "cell_type": "markdown",
   "metadata": {},
   "source": [
    "## Read in data to pandas df"
   ]
  },
  {
   "cell_type": "code",
   "execution_count": 1,
   "metadata": {},
   "outputs": [],
   "source": [
    "#Combine all files into one\n",
    "\n",
    "# with open('output_file.txt','wb') as wfd:\n",
    "#     for f in ['twitter_data.txt','twitter_data_c2.txt', 'twitter_data_c2_pt2.txt','twitter_data_c2_pt3.txt', 'twitter_data_c2_pt4.txt', 'twitter_data_c2_pt5.txt', 'twitter_data_c2_pt6.txt', 'twitter_data_c2_pt7.txt']:\n",
    "#         with open(f,'rb') as fd:\n",
    "#             shutil.copyfileobj(fd, wfd)"
   ]
  },
  {
   "cell_type": "code",
   "execution_count": 303,
   "metadata": {},
   "outputs": [],
   "source": [
    "#Read in data OLD\n",
    "# tweets_data_path = 'output_file_test.txt'\n",
    "\n",
    "# tweets_data = []\n",
    "# words = []\n",
    "# tweets_file = open(tweets_data_path, \"r\")\n",
    "# for line in tweets_file:\n",
    "#     try:\n",
    "#         tweet = json.loads(line)\n",
    "#         tweets_data.append(tweet)\n",
    "#     except:\n",
    "#         continue"
   ]
  },
  {
   "cell_type": "code",
   "execution_count": 388,
   "metadata": {
    "scrolled": true
   },
   "outputs": [],
   "source": [
    "#read in data as chunks\n",
    "df = pd.read_json('twitter_data_c2_pt2.txt', lines = True)"
   ]
  },
  {
   "cell_type": "code",
   "execution_count": 114,
   "metadata": {
    "collapsed": true
   },
   "outputs": [
    {
     "name": "stdout",
     "output_type": "stream",
     "text": [
      "<class 'pandas.core.frame.DataFrame'>\n",
      "RangeIndex: 3387 entries, 0 to 3386\n",
      "Data columns (total 36 columns):\n",
      "contributors                 0 non-null float64\n",
      "coordinates                  30 non-null object\n",
      "created_at                   3387 non-null datetime64[ns]\n",
      "display_text_range           1013 non-null object\n",
      "entities                     3387 non-null object\n",
      "extended_entities            320 non-null object\n",
      "extended_tweet               1181 non-null object\n",
      "favorite_count               3387 non-null int64\n",
      "favorited                    3387 non-null bool\n",
      "filter_level                 3387 non-null object\n",
      "geo                          30 non-null object\n",
      "id                           3387 non-null int64\n",
      "id_str                       3387 non-null int64\n",
      "in_reply_to_screen_name      500 non-null object\n",
      "in_reply_to_status_id        462 non-null float64\n",
      "in_reply_to_status_id_str    462 non-null float64\n",
      "in_reply_to_user_id          500 non-null float64\n",
      "in_reply_to_user_id_str      500 non-null float64\n",
      "is_quote_status              3387 non-null bool\n",
      "lang                         3387 non-null object\n",
      "place                        91 non-null object\n",
      "possibly_sensitive           1760 non-null float64\n",
      "quote_count                  3387 non-null int64\n",
      "quoted_status                227 non-null object\n",
      "quoted_status_id             227 non-null float64\n",
      "quoted_status_id_str         227 non-null float64\n",
      "quoted_status_permalink      227 non-null object\n",
      "reply_count                  3387 non-null int64\n",
      "retweet_count                3387 non-null int64\n",
      "retweeted                    3387 non-null bool\n",
      "retweeted_status             1138 non-null object\n",
      "source                       3387 non-null object\n",
      "text                         3387 non-null object\n",
      "timestamp_ms                 3387 non-null datetime64[ns]\n",
      "truncated                    3387 non-null bool\n",
      "user                         3387 non-null object\n",
      "dtypes: bool(4), datetime64[ns](2), float64(8), int64(6), object(16)\n",
      "memory usage: 860.1+ KB\n"
     ]
    }
   ],
   "source": [
    "df.info()"
   ]
  },
  {
   "cell_type": "code",
   "execution_count": 389,
   "metadata": {},
   "outputs": [],
   "source": [
    "#only keep variables needed\n",
    "df = df[[\"id_str\", \"text\", \"place\", \"coordinates\", \"created_at\", \"lang\", \"possibly_sensitive\",\"retweeted\" ]]"
   ]
  },
  {
   "cell_type": "code",
   "execution_count": 390,
   "metadata": {},
   "outputs": [],
   "source": [
    "def keyword_column_boolean(df, keyword_list):\n",
    "    for x in keyword_list:\n",
    "        df[x] = df['text'].apply(lambda text: word_in_text(x,text))"
   ]
  },
  {
   "cell_type": "code",
   "execution_count": 392,
   "metadata": {},
   "outputs": [
    {
     "name": "stdout",
     "output_type": "stream",
     "text": [
      "before RT removal: 3387\n",
      "after RT removal: 1867\n"
     ]
    }
   ],
   "source": [
    "#don't include retweets\n",
    "keyword_column_boolean(df, ['RT'])\n",
    "print(\"before RT removal:\", len(df))\n",
    "df = df[df['RT']==False]\n",
    "print(\"after RT removal:\", len(df))"
   ]
  },
  {
   "cell_type": "code",
   "execution_count": 395,
   "metadata": {
    "scrolled": true
   },
   "outputs": [],
   "source": [
    "#booleans for each diet\n",
    "diet_list = ['keto','whole30','glutenfree','mediterraneandiet','lowfat', 'atkins', 'paleo', 'celeryjuice']\n",
    "keyword_column_boolean(df, diet_list)"
   ]
  },
  {
   "cell_type": "code",
   "execution_count": 396,
   "metadata": {},
   "outputs": [
    {
     "data": {
      "text/html": [
       "<div>\n",
       "<style scoped>\n",
       "    .dataframe tbody tr th:only-of-type {\n",
       "        vertical-align: middle;\n",
       "    }\n",
       "\n",
       "    .dataframe tbody tr th {\n",
       "        vertical-align: top;\n",
       "    }\n",
       "\n",
       "    .dataframe thead th {\n",
       "        text-align: right;\n",
       "    }\n",
       "</style>\n",
       "<table border=\"1\" class=\"dataframe\">\n",
       "  <thead>\n",
       "    <tr style=\"text-align: right;\">\n",
       "      <th></th>\n",
       "      <th>id_str</th>\n",
       "      <th>text</th>\n",
       "      <th>place</th>\n",
       "      <th>coordinates</th>\n",
       "      <th>created_at</th>\n",
       "      <th>lang</th>\n",
       "      <th>possibly_sensitive</th>\n",
       "      <th>retweeted</th>\n",
       "      <th>RT</th>\n",
       "      <th>keto</th>\n",
       "      <th>whole30</th>\n",
       "      <th>glutenfree</th>\n",
       "      <th>mediterraneandiet</th>\n",
       "      <th>lowfat</th>\n",
       "      <th>atkins</th>\n",
       "      <th>paleo</th>\n",
       "      <th>celeryjuice</th>\n",
       "    </tr>\n",
       "  </thead>\n",
       "  <tbody>\n",
       "    <tr>\n",
       "      <th>0</th>\n",
       "      <td>1141553393959239680</td>\n",
       "      <td>@majilato @SuperMugatu Damn right, and he's fu...</td>\n",
       "      <td>0</td>\n",
       "      <td>None</td>\n",
       "      <td>2019-06-20 03:48:32</td>\n",
       "      <td>en</td>\n",
       "      <td>NaN</td>\n",
       "      <td>False</td>\n",
       "      <td>False</td>\n",
       "      <td>True</td>\n",
       "      <td>False</td>\n",
       "      <td>False</td>\n",
       "      <td>False</td>\n",
       "      <td>False</td>\n",
       "      <td>False</td>\n",
       "      <td>False</td>\n",
       "      <td>False</td>\n",
       "    </tr>\n",
       "  </tbody>\n",
       "</table>\n",
       "</div>"
      ],
      "text/plain": [
       "                id_str                                               text  \\\n",
       "0  1141553393959239680  @majilato @SuperMugatu Damn right, and he's fu...   \n",
       "\n",
       "  place coordinates          created_at lang  possibly_sensitive  retweeted  \\\n",
       "0     0        None 2019-06-20 03:48:32   en                 NaN      False   \n",
       "\n",
       "      RT  keto  whole30  glutenfree  mediterraneandiet  lowfat  atkins  paleo  \\\n",
       "0  False  True    False       False              False   False   False  False   \n",
       "\n",
       "   celeryjuice  \n",
       "0        False  "
      ]
     },
     "execution_count": 396,
     "metadata": {},
     "output_type": "execute_result"
    }
   ],
   "source": [
    "df.head(1)"
   ]
  },
  {
   "cell_type": "code",
   "execution_count": 417,
   "metadata": {},
   "outputs": [],
   "source": [
    "#fix Place field\n",
    "#fill None with 0\n",
    "filled = df['place'].fillna(0)\n",
    "#replace old column\n",
    "df[\"place\"] = filled\n",
    "# #mask\n",
    "place = df[df['place'] != 0]\n",
    "place.reset_index(inplace=True)\n",
    "\n",
    "#pull out bounding box from place\n",
    "df_place = [i for i in df[\"place\"] if i] \n",
    "df_place_2 = pd.DataFrame(list(np.array(df_place)))\n",
    "\n",
    "city = df_place_2[[\"name\",\"country_code\"]]\n",
    "\n",
    "bounding_box = pd.DataFrame(list(np.array(df_place_2[\"bounding_box\"])))\n",
    "bounding_box.rename(columns={'coordinates': 'bounding_box'}, inplace=True)"
   ]
  },
  {
   "cell_type": "code",
   "execution_count": 418,
   "metadata": {},
   "outputs": [
    {
     "name": "stdout",
     "output_type": "stream",
     "text": [
      "before english removal: 84\n"
     ]
    }
   ],
   "source": [
    "#add to original df to get df we want\n",
    "df_location = pd.concat([place, bounding_box], axis=1, join='inner')\n",
    "df_location = pd.concat([df_location, city], axis=1, join='inner')\n",
    "print(\"before english removal:\", len(df_location))"
   ]
  },
  {
   "cell_type": "code",
   "execution_count": 420,
   "metadata": {},
   "outputs": [
    {
     "name": "stdout",
     "output_type": "stream",
     "text": [
      "after english removal: 70\n"
     ]
    }
   ],
   "source": [
    "#limit to only english for analysis\n",
    "df_location = df_location[df_location['lang'] == 'en']\n",
    "print(\"after english removal:\", len(df_location))"
   ]
  },
  {
   "cell_type": "code",
   "execution_count": 422,
   "metadata": {
    "scrolled": true
   },
   "outputs": [
    {
     "name": "stdout",
     "output_type": "stream",
     "text": [
      "after non-US removal: 34\n"
     ]
    }
   ],
   "source": [
    "#limit to only US for analysis\n",
    "df_location = df_location[df_location['country_code'] == 'US']\n",
    "print(\"after non-US removal:\", len(df_location))"
   ]
  },
  {
   "cell_type": "code",
   "execution_count": 76,
   "metadata": {},
   "outputs": [],
   "source": [
    "#clean tweets of URLs\n",
    "import preprocessor as p"
   ]
  },
  {
   "cell_type": "code",
   "execution_count": 423,
   "metadata": {
    "scrolled": true
   },
   "outputs": [
    {
     "name": "stderr",
     "output_type": "stream",
     "text": [
      "/anaconda3/lib/python3.7/site-packages/ipykernel_launcher.py:10: SettingWithCopyWarning: \n",
      "A value is trying to be set on a copy of a slice from a DataFrame.\n",
      "Try using .loc[row_indexer,col_indexer] = value instead\n",
      "\n",
      "See the caveats in the documentation: http://pandas.pydata.org/pandas-docs/stable/indexing.html#indexing-view-versus-copy\n",
      "  # Remove the CWD from sys.path while we load stuff.\n"
     ]
    }
   ],
   "source": [
    "p.set_options(p.OPT.URL, p.OPT.SMILEY, p.OPT.MENTION) #remove URLs, smileys, mentions but keep emojis\n",
    "\n",
    "\n",
    "text_list = list(df_location[\"text\"])\n",
    "\n",
    "clean_text_list = []\n",
    "for tweet in text_list:   \n",
    "    clean_text_list.append(p.clean(tweet))\n",
    "\n",
    "df_location[\"text_clean\"] = clean_text_list "
   ]
  },
  {
   "cell_type": "code",
   "execution_count": 424,
   "metadata": {},
   "outputs": [
    {
     "data": {
      "text/html": [
       "<div>\n",
       "<style scoped>\n",
       "    .dataframe tbody tr th:only-of-type {\n",
       "        vertical-align: middle;\n",
       "    }\n",
       "\n",
       "    .dataframe tbody tr th {\n",
       "        vertical-align: top;\n",
       "    }\n",
       "\n",
       "    .dataframe thead th {\n",
       "        text-align: right;\n",
       "    }\n",
       "</style>\n",
       "<table border=\"1\" class=\"dataframe\">\n",
       "  <thead>\n",
       "    <tr style=\"text-align: right;\">\n",
       "      <th></th>\n",
       "      <th>id_str</th>\n",
       "      <th>text</th>\n",
       "      <th>place</th>\n",
       "      <th>coordinates</th>\n",
       "      <th>created_at</th>\n",
       "      <th>lang</th>\n",
       "      <th>possibly_sensitive</th>\n",
       "      <th>retweeted</th>\n",
       "      <th>RT</th>\n",
       "      <th>keto</th>\n",
       "      <th>...</th>\n",
       "      <th>lowfat</th>\n",
       "      <th>atkins</th>\n",
       "      <th>paleo</th>\n",
       "      <th>celeryjuice</th>\n",
       "      <th>bounding_box</th>\n",
       "      <th>type</th>\n",
       "      <th>name</th>\n",
       "      <th>country_code</th>\n",
       "      <th>text_clean</th>\n",
       "      <th>index</th>\n",
       "    </tr>\n",
       "  </thead>\n",
       "  <tbody>\n",
       "    <tr>\n",
       "      <th>0</th>\n",
       "      <td>1141553418944876544</td>\n",
       "      <td>It’s hard when nobody can afford food without ...</td>\n",
       "      <td>{'id': '3faf04da3454baba', 'url': 'https://api...</td>\n",
       "      <td>None</td>\n",
       "      <td>2019-06-20 03:48:38</td>\n",
       "      <td>en</td>\n",
       "      <td>NaN</td>\n",
       "      <td>False</td>\n",
       "      <td>False</td>\n",
       "      <td>False</td>\n",
       "      <td>...</td>\n",
       "      <td>False</td>\n",
       "      <td>False</td>\n",
       "      <td>False</td>\n",
       "      <td>False</td>\n",
       "      <td>[[[-82.901433, 42.578183], [-82.901433, 42.617...</td>\n",
       "      <td>Polygon</td>\n",
       "      <td>Mount Clemens</td>\n",
       "      <td>US</td>\n",
       "      <td>It’s hard when nobody can afford food without ...</td>\n",
       "      <td>0</td>\n",
       "    </tr>\n",
       "    <tr>\n",
       "      <th>1</th>\n",
       "      <td>1141555808351576064</td>\n",
       "      <td>Whoo hooo. Happy dance time. My June Keto Krat...</td>\n",
       "      <td>{'id': '3df4f427b5a60fea', 'url': 'https://api...</td>\n",
       "      <td>{'type': 'Point', 'coordinates': [-98.5, 29.41...</td>\n",
       "      <td>2019-06-20 03:58:08</td>\n",
       "      <td>en</td>\n",
       "      <td>0.0</td>\n",
       "      <td>False</td>\n",
       "      <td>False</td>\n",
       "      <td>True</td>\n",
       "      <td>...</td>\n",
       "      <td>False</td>\n",
       "      <td>False</td>\n",
       "      <td>False</td>\n",
       "      <td>False</td>\n",
       "      <td>[[[-98.778559, 29.141956], [-98.778559, 29.693...</td>\n",
       "      <td>Polygon</td>\n",
       "      <td>San Antonio</td>\n",
       "      <td>US</td>\n",
       "      <td>Whoo hooo. Happy dance time. My June Keto Krat...</td>\n",
       "      <td>1</td>\n",
       "    </tr>\n",
       "    <tr>\n",
       "      <th>2</th>\n",
       "      <td>1141558859003129856</td>\n",
       "      <td>@Jasperr____ get the keto coffee ones 🤪</td>\n",
       "      <td>{'id': '1193edda55d6fa3d', 'url': 'https://api...</td>\n",
       "      <td>None</td>\n",
       "      <td>2019-06-20 04:10:15</td>\n",
       "      <td>en</td>\n",
       "      <td>NaN</td>\n",
       "      <td>False</td>\n",
       "      <td>False</td>\n",
       "      <td>True</td>\n",
       "      <td>...</td>\n",
       "      <td>False</td>\n",
       "      <td>False</td>\n",
       "      <td>False</td>\n",
       "      <td>False</td>\n",
       "      <td>[[[-117.967313, 34.001861], [-117.967313, 34.0...</td>\n",
       "      <td>Polygon</td>\n",
       "      <td>West Covina</td>\n",
       "      <td>US</td>\n",
       "      <td>get the keto coffee ones 🤪</td>\n",
       "      <td>2</td>\n",
       "    </tr>\n",
       "    <tr>\n",
       "      <th>3</th>\n",
       "      <td>1141567158788468736</td>\n",
       "      <td>Gotta try this keto diet shits</td>\n",
       "      <td>{'id': '67b98f17fdcf20be', 'url': 'https://api...</td>\n",
       "      <td>None</td>\n",
       "      <td>2019-06-20 04:43:14</td>\n",
       "      <td>en</td>\n",
       "      <td>NaN</td>\n",
       "      <td>False</td>\n",
       "      <td>False</td>\n",
       "      <td>True</td>\n",
       "      <td>...</td>\n",
       "      <td>False</td>\n",
       "      <td>False</td>\n",
       "      <td>False</td>\n",
       "      <td>False</td>\n",
       "      <td>[[[-71.191421, 42.227797], [-71.191421, 42.399...</td>\n",
       "      <td>Polygon</td>\n",
       "      <td>Boston</td>\n",
       "      <td>US</td>\n",
       "      <td>Gotta try this keto diet shits</td>\n",
       "      <td>3</td>\n",
       "    </tr>\n",
       "    <tr>\n",
       "      <th>4</th>\n",
       "      <td>1141571340467679232</td>\n",
       "      <td>I’LL go back on 100% keto on my bday!! \\n7/1 t...</td>\n",
       "      <td>{'id': '1711fcf6c5dcde3c', 'url': 'https://api...</td>\n",
       "      <td>None</td>\n",
       "      <td>2019-06-20 04:59:51</td>\n",
       "      <td>en</td>\n",
       "      <td>NaN</td>\n",
       "      <td>False</td>\n",
       "      <td>False</td>\n",
       "      <td>True</td>\n",
       "      <td>...</td>\n",
       "      <td>False</td>\n",
       "      <td>False</td>\n",
       "      <td>False</td>\n",
       "      <td>False</td>\n",
       "      <td>[[[-73.285247, 40.705724000000004], [-73.28524...</td>\n",
       "      <td>Polygon</td>\n",
       "      <td>Bay Shore</td>\n",
       "      <td>US</td>\n",
       "      <td>I’LL go back on 100% keto on my bday!! 7/1 the...</td>\n",
       "      <td>4</td>\n",
       "    </tr>\n",
       "  </tbody>\n",
       "</table>\n",
       "<p>5 rows × 23 columns</p>\n",
       "</div>"
      ],
      "text/plain": [
       "                id_str                                               text  \\\n",
       "0  1141553418944876544  It’s hard when nobody can afford food without ...   \n",
       "1  1141555808351576064  Whoo hooo. Happy dance time. My June Keto Krat...   \n",
       "2  1141558859003129856            @Jasperr____ get the keto coffee ones 🤪   \n",
       "3  1141567158788468736                     Gotta try this keto diet shits   \n",
       "4  1141571340467679232  I’LL go back on 100% keto on my bday!! \\n7/1 t...   \n",
       "\n",
       "                                               place  \\\n",
       "0  {'id': '3faf04da3454baba', 'url': 'https://api...   \n",
       "1  {'id': '3df4f427b5a60fea', 'url': 'https://api...   \n",
       "2  {'id': '1193edda55d6fa3d', 'url': 'https://api...   \n",
       "3  {'id': '67b98f17fdcf20be', 'url': 'https://api...   \n",
       "4  {'id': '1711fcf6c5dcde3c', 'url': 'https://api...   \n",
       "\n",
       "                                         coordinates          created_at lang  \\\n",
       "0                                               None 2019-06-20 03:48:38   en   \n",
       "1  {'type': 'Point', 'coordinates': [-98.5, 29.41... 2019-06-20 03:58:08   en   \n",
       "2                                               None 2019-06-20 04:10:15   en   \n",
       "3                                               None 2019-06-20 04:43:14   en   \n",
       "4                                               None 2019-06-20 04:59:51   en   \n",
       "\n",
       "   possibly_sensitive  retweeted     RT   keto  ...  lowfat  atkins  paleo  \\\n",
       "0                 NaN      False  False  False  ...   False   False  False   \n",
       "1                 0.0      False  False   True  ...   False   False  False   \n",
       "2                 NaN      False  False   True  ...   False   False  False   \n",
       "3                 NaN      False  False   True  ...   False   False  False   \n",
       "4                 NaN      False  False   True  ...   False   False  False   \n",
       "\n",
       "   celeryjuice                                       bounding_box     type  \\\n",
       "0        False  [[[-82.901433, 42.578183], [-82.901433, 42.617...  Polygon   \n",
       "1        False  [[[-98.778559, 29.141956], [-98.778559, 29.693...  Polygon   \n",
       "2        False  [[[-117.967313, 34.001861], [-117.967313, 34.0...  Polygon   \n",
       "3        False  [[[-71.191421, 42.227797], [-71.191421, 42.399...  Polygon   \n",
       "4        False  [[[-73.285247, 40.705724000000004], [-73.28524...  Polygon   \n",
       "\n",
       "            name country_code  \\\n",
       "0  Mount Clemens           US   \n",
       "1    San Antonio           US   \n",
       "2    West Covina           US   \n",
       "3         Boston           US   \n",
       "4      Bay Shore           US   \n",
       "\n",
       "                                          text_clean index  \n",
       "0  It’s hard when nobody can afford food without ...     0  \n",
       "1  Whoo hooo. Happy dance time. My June Keto Krat...     1  \n",
       "2                         get the keto coffee ones 🤪     2  \n",
       "3                     Gotta try this keto diet shits     3  \n",
       "4  I’LL go back on 100% keto on my bday!! 7/1 the...     4  \n",
       "\n",
       "[5 rows x 23 columns]"
      ]
     },
     "execution_count": 424,
     "metadata": {},
     "output_type": "execute_result"
    }
   ],
   "source": [
    "#fix index\n",
    "df_location2 = df_location.reset_index()\n",
    "df_location3 = df_location2.drop([\"index\", \"level_0\"], axis = 1)\n",
    "df_location3['index'] = df_location3.index\n",
    "df_location3.head()"
   ]
  },
  {
   "cell_type": "markdown",
   "metadata": {},
   "source": [
    "## Topic Modeling using LDA"
   ]
  },
  {
   "cell_type": "code",
   "execution_count": 425,
   "metadata": {},
   "outputs": [
    {
     "name": "stderr",
     "output_type": "stream",
     "text": [
      "[nltk_data] Downloading package wordnet to\n",
      "[nltk_data]     /Users/vinhtran/nltk_data...\n",
      "[nltk_data]   Package wordnet is already up-to-date!\n"
     ]
    },
    {
     "data": {
      "text/plain": [
       "True"
      ]
     },
     "execution_count": 425,
     "metadata": {},
     "output_type": "execute_result"
    }
   ],
   "source": [
    "import gensim\n",
    "from gensim.utils import simple_preprocess\n",
    "from gensim.parsing.preprocessing import STOPWORDS \n",
    "# Set of stopwords from Stone, Denis, Kwantes\n",
    "from nltk.stem import WordNetLemmatizer, SnowballStemmer\n",
    "from nltk.stem import *\n",
    "import numpy as np\n",
    "np.random.seed(2018)\n",
    "import nltk\n",
    "nltk.download('wordnet')"
   ]
  },
  {
   "cell_type": "code",
   "execution_count": 426,
   "metadata": {},
   "outputs": [],
   "source": [
    "#function to perform lemmatize and stem preprocessing\n",
    "def lemmatize_stemming(text):\n",
    "    return stemmer.stem(WordNetLemmatizer().lemmatize(text, pos='v'))\n",
    "def preprocess(text):\n",
    "    result = []\n",
    "    for token in gensim.utils.simple_preprocess(text):\n",
    "        if token not in gensim.parsing.preprocessing.STOPWORDS and len(token) > 3:\n",
    "            result.append(lemmatize_stemming(token))\n",
    "    return result"
   ]
  },
  {
   "cell_type": "code",
   "execution_count": 428,
   "metadata": {
    "scrolled": true
   },
   "outputs": [
    {
     "name": "stdout",
     "output_type": "stream",
     "text": [
      "                                          text_clean  index\n",
      "0  It’s hard when nobody can afford food without ...      0\n",
      "1  Whoo hooo. Happy dance time. My June Keto Krat...      1\n",
      "2                         get the keto coffee ones 🤪      2\n",
      "3                     Gotta try this keto diet shits      3\n",
      "4  I’LL go back on 100% keto on my bday!! 7/1 the...      4\n",
      "5  Keto Fit This will help in reducing fast weigh...      5\n",
      "6  If your doing keto, eat quest bars for somethi...      6\n",
      "7  Is the Keto Diet a Good Idea For Weight Loss? ...      7\n",
      "8  So you're saying I can drink as much liquor as...      8\n",
      "9  Keto Fit Pro work superb on human body like in...      9\n"
     ]
    }
   ],
   "source": [
    "stemmer = PorterStemmer()\n",
    "\n",
    "#\n",
    "documents_v = df_location3[['text_clean', \"index\"]]\n",
    "print(documents_v[:10])"
   ]
  },
  {
   "cell_type": "code",
   "execution_count": 429,
   "metadata": {
    "scrolled": true
   },
   "outputs": [
    {
     "name": "stdout",
     "output_type": "stream",
     "text": [
      "original document: \n",
      "['Keto', 'fit', 'pro', 'It', 'is', 'help', 'conquer', 'laziness,', 'anxiety,', 'stress', 'that', 'occur', 'because', 'of', 'fat', 'around', 'abdomen,', 'thighs,', 'buttock…']\n",
      "\n",
      "\n",
      " tokenized and lemmatized document: \n",
      "['keto', 'help', 'conquer', 'lazi', 'anxieti', 'stress', 'occur', 'abdomen', 'thigh', 'buttock']\n"
     ]
    }
   ],
   "source": [
    "#compare a tweet before and after preprocessing\n",
    "doc_sample = documents_v[documents_v['index'] == 10].values[0][0]\n",
    "\n",
    "print('original document: ')\n",
    "words = []\n",
    "for word in doc_sample.split(' '):\n",
    "    words.append(word)\n",
    "print(words)\n",
    "print('\\n\\n tokenized and lemmatized document: ')\n",
    "print(preprocess(doc_sample))"
   ]
  },
  {
   "cell_type": "code",
   "execution_count": 530,
   "metadata": {},
   "outputs": [
    {
     "data": {
      "text/plain": [
       "0             [hard, afford, food, charg, credit, card]\n",
       "1     [whoo, hooo, happi, danc, time, june, keto, kr...\n",
       "2                                    [keto, coffe, one]\n",
       "3                             [gotta, keto, diet, shit]\n",
       "4                           [keto, bday, stop, graduat]\n",
       "5        [keto, help, reduc, fast, weight, loss, visit]\n",
       "6                       [keto, quest, bar, sweet, carb]\n",
       "7     [keto, diet, good, idea, weight, loss, fee, bl...\n",
       "8             [say, drink, liquor, want, keto, perfect]\n",
       "9     [keto, work, superb, human, bodi, like, incred...\n",
       "10    [keto, help, conquer, lazi, anxieti, stress, o...\n",
       "Name: text_clean, dtype: object"
      ]
     },
     "execution_count": 530,
     "metadata": {},
     "output_type": "execute_result"
    }
   ],
   "source": [
    "#Apply to all tweets\n",
    "processed_docs = documents_v['text_clean'].map(preprocess)\n",
    "processed_docs[:11]"
   ]
  },
  {
   "cell_type": "code",
   "execution_count": 532,
   "metadata": {},
   "outputs": [
    {
     "data": {
      "text/plain": [
       "0            [hard, afford, food, charg, credit, card]\n",
       "1    [whoo, hooo, happi, danc, time, june, keto, kr...\n",
       "2                                   [keto, coffe, one]\n",
       "3                            [gotta, keto, diet, shit]\n",
       "4                          [keto, bday, stop, graduat]\n",
       "Name: text_clean, dtype: object"
      ]
     },
     "execution_count": 532,
     "metadata": {},
     "output_type": "execute_result"
    }
   ],
   "source": [
    "processed_docs.head()"
   ]
  },
  {
   "cell_type": "code",
   "execution_count": null,
   "metadata": {},
   "outputs": [],
   "source": [
    "# Bag of Words on the Data set"
   ]
  },
  {
   "cell_type": "code",
   "execution_count": 433,
   "metadata": {},
   "outputs": [
    {
     "name": "stdout",
     "output_type": "stream",
     "text": [
      "0 afford\n",
      "1 card\n",
      "2 charg\n",
      "3 credit\n",
      "4 food\n",
      "5 hard\n",
      "6 arriv\n",
      "7 danc\n",
      "8 happi\n",
      "9 hooo\n",
      "10 june\n"
     ]
    }
   ],
   "source": [
    "dictionary = gensim.corpora.Dictionary(processed_docs)\n",
    "count = 0\n",
    "for k, v in dictionary.iteritems():\n",
    "    print(k, v)\n",
    "    count += 1\n",
    "    if count > 10:\n",
    "        break"
   ]
  },
  {
   "cell_type": "code",
   "execution_count": 434,
   "metadata": {},
   "outputs": [],
   "source": [
    "# Filter out tokens that appear in\n",
    "# less than 15 documents (absolute number) or\n",
    "# more than 0.5 documents (fraction of total corpus size, not absolute number).\n",
    "# after the above two steps, keep only the first 100000 most frequent tokens.\n",
    "\n",
    "dictionary.filter_extremes(no_below=2, no_above=0.5, keep_n=100000)"
   ]
  },
  {
   "cell_type": "code",
   "execution_count": 435,
   "metadata": {},
   "outputs": [
    {
     "name": "stdout",
     "output_type": "stream",
     "text": [
      "Dictionary(32 unique tokens: ['food', 'hard', 'ketoapprov', 'coffe', 'diet']...)\n"
     ]
    }
   ],
   "source": [
    "print(dictionary)"
   ]
  },
  {
   "cell_type": "code",
   "execution_count": 436,
   "metadata": {},
   "outputs": [
    {
     "data": {
      "text/plain": [
       "[[(0, 1), (1, 1)],\n",
       " [(2, 1)],\n",
       " [(3, 1)],\n",
       " [(4, 1)],\n",
       " [(5, 1)],\n",
       " [(6, 1), (7, 1), (8, 1)],\n",
       " [(9, 1)],\n",
       " [(4, 1), (7, 1), (8, 1), (10, 1), (11, 1), (12, 1)],\n",
       " [(13, 1), (14, 1)],\n",
       " [(15, 1), (16, 1)]]"
      ]
     },
     "execution_count": 436,
     "metadata": {},
     "output_type": "execute_result"
    }
   ],
   "source": [
    "#create bag of words. Convert document into the bag-of-words (BoW) format = list of (token_id, token_count) tuples.\n",
    "\n",
    "bow_corpus = [dictionary.doc2bow(doc) for doc in processed_docs]\n",
    "bow_corpus[:10]"
   ]
  },
  {
   "cell_type": "code",
   "execution_count": 437,
   "metadata": {},
   "outputs": [
    {
     "name": "stdout",
     "output_type": "stream",
     "text": [
      "Word 6 (\"help\") appears 1 time.\n"
     ]
    }
   ],
   "source": [
    "# Preview Bag Of Words for our sample preprocessed document.\n",
    "bow_doc_10 = bow_corpus[10]\n",
    "for i in range(len(bow_doc_10)):\n",
    "    print(\"Word {} (\\\"{}\\\") appears {} time.\".format(bow_doc_10[i][0], \n",
    "                                               dictionary[bow_doc_10[i][0]], \n",
    "bow_doc_10[i][1]))"
   ]
  },
  {
   "cell_type": "code",
   "execution_count": 438,
   "metadata": {},
   "outputs": [
    {
     "name": "stdout",
     "output_type": "stream",
     "text": [
      "[(0, 0.7071067811865476), (1, 0.7071067811865476)]\n"
     ]
    }
   ],
   "source": [
    "# TF-IDF\n",
    "from gensim import corpora, models\n",
    "\n",
    "tfidf = models.TfidfModel(bow_corpus)\n",
    "corpus_tfidf = tfidf[bow_corpus]\n",
    "\n",
    "from pprint import pprint\n",
    "for doc in corpus_tfidf:\n",
    "    pprint(doc)\n",
    "    break"
   ]
  },
  {
   "cell_type": "code",
   "execution_count": null,
   "metadata": {},
   "outputs": [],
   "source": [
    "# LDA using Bag of Words"
   ]
  },
  {
   "cell_type": "code",
   "execution_count": 439,
   "metadata": {},
   "outputs": [],
   "source": [
    "lda_model = gensim.models.LdaMulticore(bow_corpus, num_topics=10, id2word=dictionary, passes=2, workers=2)"
   ]
  },
  {
   "cell_type": "code",
   "execution_count": 440,
   "metadata": {},
   "outputs": [
    {
     "name": "stdout",
     "output_type": "stream",
     "text": [
      "Topic: 0 \n",
      "Words: 0.134*\"review\" + 0.134*\"bodi\" + 0.134*\"info\" + 0.134*\"keton\" + 0.134*\"ketoapprov\" + 0.012*\"diet\" + 0.012*\"coffe\" + 0.012*\"stop\" + 0.012*\"carb\" + 0.012*\"vegan\"\n",
      "Topic: 1 \n",
      "Words: 0.187*\"work\" + 0.187*\"hard\" + 0.161*\"vegan\" + 0.098*\"bodi\" + 0.098*\"food\" + 0.035*\"diet\" + 0.009*\"coffe\" + 0.009*\"stop\" + 0.009*\"help\" + 0.009*\"carb\"\n",
      "Topic: 2 \n",
      "Words: 0.139*\"weight\" + 0.117*\"good\" + 0.117*\"help\" + 0.108*\"loss\" + 0.086*\"diet\" + 0.086*\"fee\" + 0.086*\"idea\" + 0.065*\"product\" + 0.034*\"keton\" + 0.034*\"ketoapprov\"\n",
      "Topic: 3 \n",
      "Words: 0.056*\"diet\" + 0.056*\"weight\" + 0.056*\"idea\" + 0.056*\"loss\" + 0.056*\"carnivor\" + 0.056*\"fee\" + 0.056*\"peopl\" + 0.056*\"good\" + 0.056*\"annoy\" + 0.056*\"automat\"\n",
      "Topic: 4 \n",
      "Words: 0.292*\"carb\" + 0.153*\"breakfast\" + 0.153*\"carnivor\" + 0.014*\"diet\" + 0.014*\"coffe\" + 0.014*\"help\" + 0.014*\"bodi\" + 0.014*\"stop\" + 0.014*\"ketoapprov\" + 0.014*\"drink\"\n",
      "Topic: 5 \n",
      "Words: 0.306*\"diet\" + 0.186*\"stop\" + 0.017*\"coffe\" + 0.017*\"help\" + 0.017*\"ketoapprov\" + 0.017*\"bodi\" + 0.017*\"carb\" + 0.017*\"info\" + 0.017*\"vegan\" + 0.017*\"drink\"\n",
      "Topic: 6 \n",
      "Words: 0.177*\"drink\" + 0.177*\"stop\" + 0.177*\"info\" + 0.016*\"diet\" + 0.016*\"coffe\" + 0.016*\"help\" + 0.016*\"vegan\" + 0.016*\"carb\" + 0.016*\"bodi\" + 0.016*\"ketoapprov\"\n",
      "Topic: 7 \n",
      "Words: 0.134*\"carnivor\" + 0.134*\"great\" + 0.134*\"annoy\" + 0.134*\"automat\" + 0.134*\"hostil\" + 0.134*\"peopl\" + 0.007*\"diet\" + 0.007*\"ketoapprov\" + 0.007*\"help\" + 0.007*\"info\"\n",
      "Topic: 8 \n",
      "Words: 0.292*\"coffe\" + 0.153*\"bodi\" + 0.153*\"food\" + 0.014*\"diet\" + 0.014*\"info\" + 0.014*\"ketoapprov\" + 0.014*\"help\" + 0.014*\"stop\" + 0.014*\"carb\" + 0.014*\"vegan\"\n",
      "Topic: 9 \n",
      "Words: 0.227*\"poor\" + 0.116*\"idea\" + 0.116*\"money\" + 0.116*\"everybodi\" + 0.116*\"want\" + 0.061*\"breakfast\" + 0.061*\"drink\" + 0.022*\"help\" + 0.022*\"weight\" + 0.022*\"loss\"\n"
     ]
    }
   ],
   "source": [
    "for idx, topic in lda_model.print_topics(-1):\n",
    "    print('Topic: {} \\nWords: {}'.format(idx, topic))"
   ]
  },
  {
   "cell_type": "code",
   "execution_count": null,
   "metadata": {},
   "outputs": [],
   "source": [
    "# Running LDA using TF-IDF"
   ]
  },
  {
   "cell_type": "code",
   "execution_count": 441,
   "metadata": {},
   "outputs": [
    {
     "name": "stdout",
     "output_type": "stream",
     "text": [
      "Topic: 0 Word: 0.142*\"info\" + 0.142*\"stop\" + 0.142*\"carb\" + 0.142*\"ketoapprov\" + 0.043*\"poor\" + 0.028*\"everybodi\" + 0.028*\"money\" + 0.023*\"idea\" + 0.013*\"diet\" + 0.013*\"help\"\n",
      "Topic: 1 Word: 0.262*\"help\" + 0.024*\"diet\" + 0.024*\"ketoapprov\" + 0.024*\"coffe\" + 0.024*\"vegan\" + 0.024*\"bodi\" + 0.024*\"stop\" + 0.024*\"carb\" + 0.024*\"drink\" + 0.024*\"work\"\n",
      "Topic: 2 Word: 0.223*\"breakfast\" + 0.127*\"want\" + 0.111*\"carb\" + 0.097*\"carnivor\" + 0.016*\"diet\" + 0.016*\"help\" + 0.016*\"coffe\" + 0.016*\"vegan\" + 0.016*\"drink\" + 0.016*\"stop\"\n",
      "Topic: 3 Word: 0.355*\"coffe\" + 0.041*\"fee\" + 0.038*\"good\" + 0.038*\"loss\" + 0.036*\"diet\" + 0.036*\"idea\" + 0.036*\"weight\" + 0.017*\"help\" + 0.017*\"carb\" + 0.017*\"ketoapprov\"\n",
      "Topic: 4 Word: 0.160*\"bodi\" + 0.130*\"food\" + 0.091*\"info\" + 0.091*\"keton\" + 0.091*\"review\" + 0.058*\"diet\" + 0.015*\"coffe\" + 0.015*\"help\" + 0.015*\"ketoapprov\" + 0.015*\"carb\"\n",
      "Topic: 5 Word: 0.132*\"hard\" + 0.077*\"annoy\" + 0.077*\"automat\" + 0.077*\"peopl\" + 0.077*\"great\" + 0.077*\"hostil\" + 0.077*\"food\" + 0.068*\"carnivor\" + 0.064*\"work\" + 0.064*\"vegan\"\n",
      "Topic: 6 Word: 0.165*\"poor\" + 0.126*\"vegan\" + 0.103*\"work\" + 0.088*\"money\" + 0.088*\"everybodi\" + 0.080*\"bodi\" + 0.063*\"idea\" + 0.011*\"diet\" + 0.011*\"help\" + 0.011*\"carb\"\n",
      "Topic: 7 Word: 0.141*\"loss\" + 0.128*\"weight\" + 0.107*\"fee\" + 0.095*\"good\" + 0.086*\"idea\" + 0.086*\"diet\" + 0.062*\"want\" + 0.062*\"drink\" + 0.054*\"help\" + 0.008*\"coffe\"\n",
      "Topic: 8 Word: 0.146*\"help\" + 0.119*\"review\" + 0.083*\"keton\" + 0.083*\"product\" + 0.066*\"bodi\" + 0.061*\"weight\" + 0.030*\"peopl\" + 0.030*\"great\" + 0.030*\"automat\" + 0.030*\"hostil\"\n",
      "Topic: 9 Word: 0.224*\"diet\" + 0.100*\"stop\" + 0.100*\"drink\" + 0.090*\"ketoapprov\" + 0.090*\"product\" + 0.071*\"good\" + 0.012*\"help\" + 0.012*\"coffe\" + 0.012*\"vegan\" + 0.012*\"carb\"\n"
     ]
    }
   ],
   "source": [
    "lda_model_tfidf = gensim.models.LdaMulticore(corpus_tfidf, num_topics=10, id2word=dictionary, passes=2, workers=4)\n",
    "for idx, topic in lda_model_tfidf.print_topics(-1):\n",
    "    print('Topic: {} Word: {}'.format(idx, topic))"
   ]
  },
  {
   "cell_type": "code",
   "execution_count": null,
   "metadata": {},
   "outputs": [],
   "source": [
    "# Performance Evaluation"
   ]
  },
  {
   "cell_type": "code",
   "execution_count": 442,
   "metadata": {},
   "outputs": [
    {
     "data": {
      "text/plain": [
       "['keto',\n",
       " 'help',\n",
       " 'conquer',\n",
       " 'lazi',\n",
       " 'anxieti',\n",
       " 'stress',\n",
       " 'occur',\n",
       " 'abdomen',\n",
       " 'thigh',\n",
       " 'buttock']"
      ]
     },
     "execution_count": 442,
     "metadata": {},
     "output_type": "execute_result"
    }
   ],
   "source": [
    "processed_docs[10]"
   ]
  },
  {
   "cell_type": "code",
   "execution_count": 443,
   "metadata": {},
   "outputs": [
    {
     "name": "stdout",
     "output_type": "stream",
     "text": [
      "\n",
      "Score: 0.5499984622001648\t \n",
      "Topic: 0.139*\"weight\" + 0.117*\"good\" + 0.117*\"help\" + 0.108*\"loss\" + 0.086*\"diet\" + 0.086*\"fee\" + 0.086*\"idea\" + 0.065*\"product\" + 0.034*\"keton\" + 0.034*\"ketoapprov\"\n",
      "\n",
      "Score: 0.050001002848148346\t \n",
      "Topic: 0.227*\"poor\" + 0.116*\"idea\" + 0.116*\"money\" + 0.116*\"everybodi\" + 0.116*\"want\" + 0.061*\"breakfast\" + 0.061*\"drink\" + 0.022*\"help\" + 0.022*\"weight\" + 0.022*\"loss\"\n",
      "\n",
      "Score: 0.05000006780028343\t \n",
      "Topic: 0.134*\"review\" + 0.134*\"bodi\" + 0.134*\"info\" + 0.134*\"keton\" + 0.134*\"ketoapprov\" + 0.012*\"diet\" + 0.012*\"coffe\" + 0.012*\"stop\" + 0.012*\"carb\" + 0.012*\"vegan\"\n",
      "\n",
      "Score: 0.05000006780028343\t \n",
      "Topic: 0.187*\"work\" + 0.187*\"hard\" + 0.161*\"vegan\" + 0.098*\"bodi\" + 0.098*\"food\" + 0.035*\"diet\" + 0.009*\"coffe\" + 0.009*\"stop\" + 0.009*\"help\" + 0.009*\"carb\"\n",
      "\n",
      "Score: 0.05000006780028343\t \n",
      "Topic: 0.056*\"diet\" + 0.056*\"weight\" + 0.056*\"idea\" + 0.056*\"loss\" + 0.056*\"carnivor\" + 0.056*\"fee\" + 0.056*\"peopl\" + 0.056*\"good\" + 0.056*\"annoy\" + 0.056*\"automat\"\n",
      "\n",
      "Score: 0.05000006780028343\t \n",
      "Topic: 0.292*\"carb\" + 0.153*\"breakfast\" + 0.153*\"carnivor\" + 0.014*\"diet\" + 0.014*\"coffe\" + 0.014*\"help\" + 0.014*\"bodi\" + 0.014*\"stop\" + 0.014*\"ketoapprov\" + 0.014*\"drink\"\n",
      "\n",
      "Score: 0.05000006780028343\t \n",
      "Topic: 0.306*\"diet\" + 0.186*\"stop\" + 0.017*\"coffe\" + 0.017*\"help\" + 0.017*\"ketoapprov\" + 0.017*\"bodi\" + 0.017*\"carb\" + 0.017*\"info\" + 0.017*\"vegan\" + 0.017*\"drink\"\n",
      "\n",
      "Score: 0.05000006780028343\t \n",
      "Topic: 0.177*\"drink\" + 0.177*\"stop\" + 0.177*\"info\" + 0.016*\"diet\" + 0.016*\"coffe\" + 0.016*\"help\" + 0.016*\"vegan\" + 0.016*\"carb\" + 0.016*\"bodi\" + 0.016*\"ketoapprov\"\n",
      "\n",
      "Score: 0.05000006780028343\t \n",
      "Topic: 0.134*\"carnivor\" + 0.134*\"great\" + 0.134*\"annoy\" + 0.134*\"automat\" + 0.134*\"hostil\" + 0.134*\"peopl\" + 0.007*\"diet\" + 0.007*\"ketoapprov\" + 0.007*\"help\" + 0.007*\"info\"\n",
      "\n",
      "Score: 0.05000006780028343\t \n",
      "Topic: 0.292*\"coffe\" + 0.153*\"bodi\" + 0.153*\"food\" + 0.014*\"diet\" + 0.014*\"info\" + 0.014*\"ketoapprov\" + 0.014*\"help\" + 0.014*\"stop\" + 0.014*\"carb\" + 0.014*\"vegan\"\n"
     ]
    }
   ],
   "source": [
    "# Performance evaluation by classifying sample document using LDA TF-IDF model.\n",
    "for index, score in sorted(lda_model[bow_corpus[10]], key=lambda tup: -1*tup[1]):\n",
    "    print(\"\\nScore: {}\\t \\nTopic: {}\".format(score, lda_model.print_topic(index, 10)))"
   ]
  },
  {
   "cell_type": "markdown",
   "metadata": {},
   "source": [
    "## NLP Sentiment Analysis"
   ]
  },
  {
   "cell_type": "code",
   "execution_count": 460,
   "metadata": {},
   "outputs": [],
   "source": [
    "from textblob import TextBlob"
   ]
  },
  {
   "cell_type": "code",
   "execution_count": 462,
   "metadata": {},
   "outputs": [
    {
     "data": {
      "text/plain": [
       "'It’s hard when nobody can afford food without charging it to a credit card at 24% APR'"
      ]
     },
     "execution_count": 462,
     "metadata": {},
     "output_type": "execute_result"
    }
   ],
   "source": [
    "documents_v['text_clean'][0]"
   ]
  },
  {
   "cell_type": "code",
   "execution_count": 477,
   "metadata": {},
   "outputs": [],
   "source": [
    "def get_tweet_polarity(tweet): \n",
    "        ''' \n",
    "        Utility function to classify sentiment of passed tweet \n",
    "        using textblob's sentiment method \n",
    "        '''\n",
    "        # create TextBlob object of passed tweet text \n",
    "        analysis = TextBlob(tweet)\n",
    "        # set sentiment \n",
    "        return analysis.sentiment.polarity\n",
    "    \n",
    "def get_tweet_sentiment(polarity): \n",
    "        if polarity > 0: \n",
    "            return 'positive'\n",
    "        elif polarity == 0: \n",
    "            return 'neutral'\n",
    "        else: \n",
    "            return 'negative'"
   ]
  },
  {
   "cell_type": "code",
   "execution_count": 480,
   "metadata": {
    "scrolled": true
   },
   "outputs": [
    {
     "name": "stderr",
     "output_type": "stream",
     "text": [
      "/anaconda3/lib/python3.7/site-packages/ipykernel_launcher.py:1: SettingWithCopyWarning: \n",
      "A value is trying to be set on a copy of a slice from a DataFrame.\n",
      "Try using .loc[row_indexer,col_indexer] = value instead\n",
      "\n",
      "See the caveats in the documentation: http://pandas.pydata.org/pandas-docs/stable/indexing.html#indexing-view-versus-copy\n",
      "  \"\"\"Entry point for launching an IPython kernel.\n",
      "/anaconda3/lib/python3.7/site-packages/ipykernel_launcher.py:2: SettingWithCopyWarning: \n",
      "A value is trying to be set on a copy of a slice from a DataFrame.\n",
      "Try using .loc[row_indexer,col_indexer] = value instead\n",
      "\n",
      "See the caveats in the documentation: http://pandas.pydata.org/pandas-docs/stable/indexing.html#indexing-view-versus-copy\n",
      "  \n"
     ]
    }
   ],
   "source": [
    "documents_v['polarity'] = documents_v['text_clean'].map(get_tweet_polarity);\n",
    "documents_v['sentiment'] = documents_v['polarity'].map(get_tweet_sentiment);"
   ]
  },
  {
   "cell_type": "code",
   "execution_count": 496,
   "metadata": {},
   "outputs": [
    {
     "name": "stdout",
     "output_type": "stream",
     "text": [
      "Positive tweets percentage: 52.94117647058823 %\n",
      "Negative tweets percentage: 23.529411764705884 %\n",
      "Neutral tweets percentage: 23.529411764705884 %\n"
     ]
    }
   ],
   "source": [
    "# picking positive tweets from tweets \n",
    "ptweets = documents_v[documents_v['sentiment'] == 'positive']\n",
    "# percentage of positive tweets \n",
    "print(\"Positive tweets percentage: {} %\".format(100*len(ptweets)/len(documents_v))) \n",
    "# picking negative tweets from tweets \n",
    "ntweets = documents_v[documents_v['sentiment'] == 'negative']\n",
    "# percentage of negative tweets \n",
    "print(\"Negative tweets percentage: {} %\".format(100*len(ntweets)/len(documents_v))) \n",
    "# percentage of neutral tweets \n",
    "print(\"Neutral tweets percentage: {} %\".format(100* (len(documents_v) - len(ntweets) - len(ptweets))/len(documents_v)))\n",
    "  "
   ]
  },
  {
   "cell_type": "code",
   "execution_count": 541,
   "metadata": {},
   "outputs": [],
   "source": [
    "processed_docs = processed_docs.rename(columns = {\"clean_text\": 'text_tokenized'})"
   ]
  },
  {
   "cell_type": "code",
   "execution_count": 612,
   "metadata": {},
   "outputs": [
    {
     "data": {
      "text/html": [
       "<div>\n",
       "<style scoped>\n",
       "    .dataframe tbody tr th:only-of-type {\n",
       "        vertical-align: middle;\n",
       "    }\n",
       "\n",
       "    .dataframe tbody tr th {\n",
       "        vertical-align: top;\n",
       "    }\n",
       "\n",
       "    .dataframe thead th {\n",
       "        text-align: right;\n",
       "    }\n",
       "</style>\n",
       "<table border=\"1\" class=\"dataframe\">\n",
       "  <thead>\n",
       "    <tr style=\"text-align: right;\">\n",
       "      <th></th>\n",
       "      <th>text_clean</th>\n",
       "      <th>index</th>\n",
       "      <th>sentiment</th>\n",
       "      <th>polarity</th>\n",
       "    </tr>\n",
       "  </thead>\n",
       "  <tbody>\n",
       "    <tr>\n",
       "      <th>0</th>\n",
       "      <td>It’s hard when nobody can afford food without ...</td>\n",
       "      <td>0</td>\n",
       "      <td>negative</td>\n",
       "      <td>-0.291667</td>\n",
       "    </tr>\n",
       "    <tr>\n",
       "      <th>1</th>\n",
       "      <td>Whoo hooo. Happy dance time. My June Keto Krat...</td>\n",
       "      <td>1</td>\n",
       "      <td>positive</td>\n",
       "      <td>0.525000</td>\n",
       "    </tr>\n",
       "    <tr>\n",
       "      <th>2</th>\n",
       "      <td>get the keto coffee ones 🤪</td>\n",
       "      <td>2</td>\n",
       "      <td>neutral</td>\n",
       "      <td>0.000000</td>\n",
       "    </tr>\n",
       "    <tr>\n",
       "      <th>3</th>\n",
       "      <td>Gotta try this keto diet shits</td>\n",
       "      <td>3</td>\n",
       "      <td>neutral</td>\n",
       "      <td>0.000000</td>\n",
       "    </tr>\n",
       "    <tr>\n",
       "      <th>4</th>\n",
       "      <td>I’LL go back on 100% keto on my bday!! 7/1 the...</td>\n",
       "      <td>4</td>\n",
       "      <td>neutral</td>\n",
       "      <td>0.000000</td>\n",
       "    </tr>\n",
       "  </tbody>\n",
       "</table>\n",
       "</div>"
      ],
      "text/plain": [
       "                                          text_clean  index sentiment  \\\n",
       "0  It’s hard when nobody can afford food without ...      0  negative   \n",
       "1  Whoo hooo. Happy dance time. My June Keto Krat...      1  positive   \n",
       "2                         get the keto coffee ones 🤪      2   neutral   \n",
       "3                     Gotta try this keto diet shits      3   neutral   \n",
       "4  I’LL go back on 100% keto on my bday!! 7/1 the...      4   neutral   \n",
       "\n",
       "   polarity  \n",
       "0 -0.291667  \n",
       "1  0.525000  \n",
       "2  0.000000  \n",
       "3  0.000000  \n",
       "4  0.000000  "
      ]
     },
     "execution_count": 612,
     "metadata": {},
     "output_type": "execute_result"
    }
   ],
   "source": [
    "documents_v.head()"
   ]
  },
  {
   "cell_type": "code",
   "execution_count": 589,
   "metadata": {},
   "outputs": [],
   "source": [
    "positive_tweets = pd.concat([processed_docs,ptweets], axis=1, join='inner')\n",
    "negative_tweets = pd.concat([processed_docs,ntweets], axis=1, join='inner')                         \n"
   ]
  },
  {
   "cell_type": "code",
   "execution_count": 590,
   "metadata": {},
   "outputs": [],
   "source": [
    "positive_tweets = positive_tweets.rename(columns = {0: 'text_tokenized'})\n",
    "negative_tweets = negative_tweets.rename(columns = {0: 'text_tokenized'})"
   ]
  },
  {
   "cell_type": "code",
   "execution_count": 591,
   "metadata": {},
   "outputs": [
    {
     "name": "stdout",
     "output_type": "stream",
     "text": [
      "['whoo', 'hooo', 'happi', 'danc', 'time', 'june', 'keto', 'krate', 'arriv', 'ketokr', 'ketoapprov', 'keto', 'help', 'reduc', 'fast', 'weight', 'loss', 'visit', 'keto', 'quest', 'bar', 'sweet', 'carb', 'keto', 'diet', 'good', 'idea', 'weight', 'loss', 'fee', 'blackceo', 'say', 'drink', 'liquor', 'want', 'keto', 'perfect', 'keto', 'work', 'superb', 'human', 'bodi', 'like', 'incred', 'boost', 'metabol', 'rate', 'breakdown', 'store', 'stubborn', 'keto', 'help', 'conquer', 'lazi', 'anxieti', 'stress', 'occur', 'abdomen', 'thigh', 'buttock', 'keto', 'review', 'substanc', 'normal', 'call', 'keton', 'bodi', 'info', 'keto', 'shark', 'tank', 'help', 'product', 'keton', 'compound', 'bodi', 'prevent', 'extra', 'weight', 'treat', 'diabet', 'keto', 'review', 'help', 'avoid', 'accumul', 'molecul', 'affect', 'brain', 'caus', 'keto', 'burn', 'supplement', 'pack', 'veggi', 'capsul', 'info', 'keto', 'grow', 'love', 'tequila', 'tonic', 'keto', 'diet', 'good', 'idea', 'weight', 'loss', 'fee', 'missingdcgirl', 'great', 'keto', 'carnivor', 'peopl', 'automat', 'annoy', 'hostil', 'great', 'keto', 'carnivor', 'peopl', 'automat', 'annoy', 'hostil', 'keto', 'diet', 'good', 'idea', 'weight', 'loss', 'fee', 'staywok', 'want', 'biscuit', 'breakfast', 'keto', 'style', 'honest', 'biscuit', 'amaz', 'ketofood', 'delici', 'moist', 'chewi', 'vegan', 'glutenfre', 'serv']\n",
      "['hard', 'afford', 'food', 'charg', 'credit', 'card', 'idea', 'poor', 'money', 'poor', 'everybodi', 'idea', 'poor', 'money', 'poor', 'everybodi', 'brother', 'delect', 'chicken', 'wing', 'supper', 'night', 'famili', 'vacat', 'shenandoah', 'zucchini', 'crust', 'keto', 'vegan', 'cauliflow', 'hard', 'work', 'need', 'tablespoon', 'butter', 'coffe', 'barf', 'keto', 'basic', 'everyday', 'keto', 'diet', 'folk', 'weird']\n"
     ]
    }
   ],
   "source": [
    "import itertools \n",
    "\n",
    "all_p_text = []\n",
    "for word in positive_tweets['text_tokenized']:\n",
    "    all_p_text.append(word)\n",
    "all_p_text = list(itertools.chain.from_iterable(all_p_text))\n",
    "print(all_p_text)\n",
    "\n",
    "all_n_text = []\n",
    "for word in negative_tweets['text_tokenized']:\n",
    "    all_n_text.append(word)\n",
    "all_n_text = list(itertools.chain.from_iterable(all_n_text))\n",
    "print(all_n_text)"
   ]
  },
  {
   "cell_type": "code",
   "execution_count": 594,
   "metadata": {},
   "outputs": [],
   "source": [
    "BOW_p = nltk.FreqDist(all_p_text)\n",
    "BOW_n = nltk.FreqDist(all_n_text)"
   ]
  },
  {
   "cell_type": "code",
   "execution_count": 596,
   "metadata": {},
   "outputs": [
    {
     "name": "stdout",
     "output_type": "stream",
     "text": [
      "whoo ketokr\n",
      "hard everybodi\n"
     ]
    }
   ],
   "source": [
    "# listing the 10 most frequent words\n",
    "word_features_p = list(BOW_p.keys())[:10]\n",
    "print(word_features_p[0], word_features_p[-1])\n",
    "# listing the 10 most frequent words\n",
    "word_features_n = list(BOW_n.keys())[:10]\n",
    "print(word_features_n[0], word_features_n[-1])"
   ]
  },
  {
   "cell_type": "code",
   "execution_count": 599,
   "metadata": {},
   "outputs": [
    {
     "name": "stdout",
     "output_type": "stream",
     "text": [
      "18 8\n"
     ]
    }
   ],
   "source": [
    "def bag_of_words(tweet):\n",
    "    words = all_text\n",
    "    words_dictionary = dict([word, True] for word in words)    \n",
    "    return words_dictionary\n",
    "\n",
    "\n",
    "# positive tweets feature set\n",
    "pos_tweets_set = []\n",
    "for tweet in positive_tweets[\"text_clean\"]:\n",
    "    pos_tweets_set.append((bag_of_words(tweet), 'pos'))   \n",
    "    \n",
    "neg_tweets_set = []\n",
    "for tweet in negative_tweets[\"text_clean\"]:\n",
    "    neg_tweets_set.append((bag_of_words(tweet), 'neg')) \n",
    "    \n",
    "print (len(pos_tweets_set), len(neg_tweets_set))"
   ]
  },
  {
   "cell_type": "code",
   "execution_count": 602,
   "metadata": {},
   "outputs": [
    {
     "name": "stdout",
     "output_type": "stream",
     "text": [
      "4 20\n"
     ]
    }
   ],
   "source": [
    "test_set = pos_tweets_set[:int(18*.2)] + neg_tweets_set[:int(8*.2)]\n",
    "train_set = pos_tweets_set[int(18*.2):] + neg_tweets_set[int(18*.2):]\n",
    "\n",
    "print(len(test_set),  len(train_set))"
   ]
  },
  {
   "cell_type": "code",
   "execution_count": 603,
   "metadata": {},
   "outputs": [
    {
     "name": "stdout",
     "output_type": "stream",
     "text": [
      "0.75\n",
      "Most Informative Features\n",
      "                   boost = True              neg : pos    =      1.0 : 1.0\n",
      "                 prevent = True              neg : pos    =      1.0 : 1.0\n",
      "                     bar = True              neg : pos    =      1.0 : 1.0\n",
      "                  delici = True              neg : pos    =      1.0 : 1.0\n",
      "                 perfect = True              neg : pos    =      1.0 : 1.0\n",
      "                    idea = True              neg : pos    =      1.0 : 1.0\n",
      "                stubborn = True              neg : pos    =      1.0 : 1.0\n",
      "                    burn = True              neg : pos    =      1.0 : 1.0\n",
      "                carnivor = True              neg : pos    =      1.0 : 1.0\n",
      "                    info = True              neg : pos    =      1.0 : 1.0\n",
      "None\n"
     ]
    }
   ],
   "source": [
    "\n",
    "from nltk import classify\n",
    "from nltk import NaiveBayesClassifier\n",
    " \n",
    "classifier = NaiveBayesClassifier.train(train_set)\n",
    " \n",
    "accuracy = classify.accuracy(classifier, test_set)\n",
    "print(accuracy) # Output: 0.765\n",
    " \n",
    "print (classifier.show_most_informative_features(10)) "
   ]
  },
  {
   "cell_type": "code",
   "execution_count": 604,
   "metadata": {},
   "outputs": [],
   "source": [
    "from collections import defaultdict\n",
    " \n",
    "actual_set = defaultdict(set)\n",
    "predicted_set = defaultdict(set)\n",
    " \n",
    "actual_set_cm = []\n",
    "predicted_set_cm = []\n",
    " \n",
    "for index, (feature, actual_label) in enumerate(test_set):\n",
    "    actual_set[actual_label].add(index)\n",
    "    actual_set_cm.append(actual_label)\n",
    " \n",
    "    predicted_label = classifier.classify(feature)\n",
    " \n",
    "    predicted_set[predicted_label].add(index)\n",
    "    predicted_set_cm.append(predicted_label)\n",
    "    \n",
    "from nltk.metrics import precision, recall, f_measure, ConfusionMatrix"
   ]
  },
  {
   "cell_type": "code",
   "execution_count": 607,
   "metadata": {
    "scrolled": true
   },
   "outputs": [
    {
     "name": "stdout",
     "output_type": "stream",
     "text": [
      "pos precision: 0.75\n",
      "pos recall: 1.0\n",
      "pos F-measure: 0.8571428571428572\n",
      "neg precision: None\n",
      "neg recall: 0.0\n",
      "neg F-measure: None\n"
     ]
    }
   ],
   "source": [
    "print('pos precision:', precision(actual_set['pos'], predicted_set['pos']))\n",
    "print('pos recall:', recall(actual_set['pos'], predicted_set['pos']))\n",
    "print('pos F-measure:', f_measure(actual_set['pos'], predicted_set['pos']))\n",
    "print('neg precision:', precision(actual_set['neg'], predicted_set['neg']))\n",
    "print('neg recall:', recall(actual_set['neg'], predicted_set['neg']))\n",
    "print('neg F-measure:', f_measure(actual_set['neg'], predicted_set['neg']))"
   ]
  },
  {
   "cell_type": "code",
   "execution_count": 609,
   "metadata": {},
   "outputs": [
    {
     "name": "stdout",
     "output_type": "stream",
     "text": [
      "    |      p      n |\n",
      "    |      o      e |\n",
      "    |      s      g |\n",
      "----+---------------+\n",
      "pos | <75.0%>     . |\n",
      "neg |  25.0%     <.>|\n",
      "----+---------------+\n",
      "(row = reference; col = test)\n",
      "\n"
     ]
    }
   ],
   "source": [
    "print (cm.pretty_format(sort_by_count=True, show_percents=True, truncate=9))"
   ]
  },
  {
   "cell_type": "markdown",
   "metadata": {},
   "source": [
    "## Explore COORDINATES - use to map"
   ]
  },
  {
   "cell_type": "code",
   "execution_count": 446,
   "metadata": {},
   "outputs": [],
   "source": [
    "#fix coordinates field\n",
    "#fill None with 0\n",
    "filled = df['coordinates'].fillna(0)\n",
    "#replace old column\n",
    "df[\"coordinates\"] = filled\n",
    "#mask\n",
    "coordinates = df[df['coordinates'] != 0]\n",
    "\n",
    "#keep only needed vars;\n",
    "coordinates = coordinates[[\"text\",\"coordinates\", \"created_at\", \"lang\", \"possibly_sensitive\", \"id_str\"]].reset_index()\n",
    "\n",
    "#create separate lon and lat columns\n",
    "coordinates_pd = pd.DataFrame(list(np.array(coordinates[\"coordinates\"])))\n",
    "coordinates_pd.rename(columns={'coordinates': 'coordinate_point'}, inplace=True)\n",
    "df_coordinates = pd.concat([coordinates, coordinates_pd], axis=1, join='inner')\n",
    "df_coordinates[['lon', 'lat']] = pd.DataFrame(df_coordinates['coordinate_point'].tolist())\n",
    "\n"
   ]
  },
  {
   "cell_type": "code",
   "execution_count": 448,
   "metadata": {
    "scrolled": false
   },
   "outputs": [
    {
     "data": {
      "text/html": [
       "<div style=\"width:100%;\"><div style=\"position:relative;width:100%;height:0;padding-bottom:60%;\"><iframe src=\"data:text/html;charset=utf-8;base64,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\" style=\"position:absolute;width:100%;height:100%;left:0;top:0;border:none !important;\" allowfullscreen webkitallowfullscreen mozallowfullscreen></iframe></div></div>"
      ],
      "text/plain": [
       "<folium.folium.Map at 0x1a26015b70>"
      ]
     },
     "execution_count": 448,
     "metadata": {},
     "output_type": "execute_result"
    }
   ],
   "source": [
    "def generateBaseMap(default_location=[29.4167, -98.5], default_zoom_start=12):\n",
    "    base_map = folium.Map(location=default_location, control_scale=True, zoom_start=default_zoom_start)\n",
    "    return base_map\n",
    "\n",
    "base_map = generateBaseMap()\n",
    "\n",
    "from folium.plugins import HeatMap\n",
    "df_coordinates[\"count\"] = 1\n",
    "HeatMap(data=df_coordinates[['lat', 'lon', 'count']].groupby(['lat', 'lon']).sum().reset_index().values.tolist(), radius=8, max_zoom=13).add_to(base_map)\n",
    "\n",
    "base_map"
   ]
  },
  {
   "cell_type": "code",
   "execution_count": 506,
   "metadata": {},
   "outputs": [
    {
     "name": "stdout",
     "output_type": "stream",
     "text": [
      "<wordcloud.wordcloud.WordCloud object at 0x1a2722a710>\n"
     ]
    },
    {
     "data": {
      "image/png": "[encoded data removed]",
      "text/plain": [
       "<Figure size 432x288 with 1 Axes>"
      ]
     },
     "metadata": {},
     "output_type": "display_data"
    }
   ],
   "source": [
    "#Word cloud\n",
    "from os import path\n",
    "from PIL import Image\n",
    "from wordcloud import WordCloud, STOPWORDS, ImageColorGenerator\n",
    "import matplotlib.pyplot as plt\n",
    "# % matplotlib inline\n",
    "wordcloud = WordCloud(\n",
    "                          background_color='white',\n",
    "                          stopwords=STOPWORDS,\n",
    "                          max_words=100,\n",
    "                          max_font_size=50, \n",
    "                          random_state=42\n",
    "                         ).generate(str(documents_v[\"text_clean\"]))\n",
    "print(wordcloud)\n",
    "fig = plt.figure(1)\n",
    "plt.imshow(wordcloud)\n",
    "plt.axis('off')\n",
    "plt.show()\n",
    "fig.savefig(\"word1.png\", dpi=900)"
   ]
  },
  {
   "cell_type": "markdown",
   "metadata": {},
   "source": [
    "# But I want to make some sort of prediction!"
   ]
  },
  {
   "cell_type": "code",
   "execution_count": 677,
   "metadata": {},
   "outputs": [
    {
     "data": {
      "text/html": [
       "<div>\n",
       "<style scoped>\n",
       "    .dataframe tbody tr th:only-of-type {\n",
       "        vertical-align: middle;\n",
       "    }\n",
       "\n",
       "    .dataframe tbody tr th {\n",
       "        vertical-align: top;\n",
       "    }\n",
       "\n",
       "    .dataframe thead th {\n",
       "        text-align: right;\n",
       "    }\n",
       "</style>\n",
       "<table border=\"1\" class=\"dataframe\">\n",
       "  <thead>\n",
       "    <tr style=\"text-align: right;\">\n",
       "      <th></th>\n",
       "      <th>StateAbbr</th>\n",
       "      <th>PlaceName</th>\n",
       "      <th>PlaceFIPS</th>\n",
       "      <th>Population2010</th>\n",
       "      <th>ACCESS2_CrudePrev</th>\n",
       "      <th>ACCESS2_Crude95CI</th>\n",
       "      <th>ACCESS2_AdjPrev</th>\n",
       "      <th>ACCESS2_Adj95CI</th>\n",
       "      <th>ARTHRITIS_CrudePrev</th>\n",
       "      <th>ARTHRITIS_Crude95CI</th>\n",
       "      <th>...</th>\n",
       "      <th>SLEEP_Adj95CI</th>\n",
       "      <th>STROKE_CrudePrev</th>\n",
       "      <th>STROKE_Crude95CI</th>\n",
       "      <th>STROKE_AdjPrev</th>\n",
       "      <th>STROKE_Adj95CI</th>\n",
       "      <th>TEETHLOST_CrudePrev</th>\n",
       "      <th>TEETHLOST_Crude95CI</th>\n",
       "      <th>TEETHLOST_AdjPrev</th>\n",
       "      <th>TEETHLOST_Adj95CI</th>\n",
       "      <th>Geolocation</th>\n",
       "    </tr>\n",
       "  </thead>\n",
       "  <tbody>\n",
       "    <tr>\n",
       "      <th>0</th>\n",
       "      <td>CA</td>\n",
       "      <td>Folsom</td>\n",
       "      <td>624638</td>\n",
       "      <td>72203</td>\n",
       "      <td>7.5</td>\n",
       "      <td>( 7.0,  8.0)</td>\n",
       "      <td>7.7</td>\n",
       "      <td>( 7.2,  8.2)</td>\n",
       "      <td>16.9</td>\n",
       "      <td>(16.6, 17.2)</td>\n",
       "      <td>...</td>\n",
       "      <td>(32.7, 33.5)</td>\n",
       "      <td>1.9</td>\n",
       "      <td>( 1.9,  2.0)</td>\n",
       "      <td>2.0</td>\n",
       "      <td>( 2.0,  2.1)</td>\n",
       "      <td>6.8</td>\n",
       "      <td>( 5.7,  8.0)</td>\n",
       "      <td>6.8</td>\n",
       "      <td>( 5.7,  7.9)</td>\n",
       "      <td>(38.67504943280, -121.147605753)</td>\n",
       "    </tr>\n",
       "    <tr>\n",
       "      <th>1</th>\n",
       "      <td>FL</td>\n",
       "      <td>Largo</td>\n",
       "      <td>1239425</td>\n",
       "      <td>77648</td>\n",
       "      <td>19.6</td>\n",
       "      <td>(19.1, 20.2)</td>\n",
       "      <td>20.9</td>\n",
       "      <td>(20.4, 21.5)</td>\n",
       "      <td>30.6</td>\n",
       "      <td>(30.3, 30.9)</td>\n",
       "      <td>...</td>\n",
       "      <td>(39.5, 40.1)</td>\n",
       "      <td>4.5</td>\n",
       "      <td>( 4.4,  4.7)</td>\n",
       "      <td>3.2</td>\n",
       "      <td>( 3.2,  3.3)</td>\n",
       "      <td>18.3</td>\n",
       "      <td>(16.9, 19.8)</td>\n",
       "      <td>18.0</td>\n",
       "      <td>(16.7, 19.4)</td>\n",
       "      <td>(27.90909077340, -82.7714203383)</td>\n",
       "    </tr>\n",
       "    <tr>\n",
       "      <th>2</th>\n",
       "      <td>CA</td>\n",
       "      <td>Berkeley</td>\n",
       "      <td>606000</td>\n",
       "      <td>112580</td>\n",
       "      <td>7.7</td>\n",
       "      <td>( 7.3,  8.1)</td>\n",
       "      <td>7.1</td>\n",
       "      <td>( 6.8,  7.3)</td>\n",
       "      <td>15.1</td>\n",
       "      <td>(15.0, 15.3)</td>\n",
       "      <td>...</td>\n",
       "      <td>(32.3, 32.7)</td>\n",
       "      <td>1.9</td>\n",
       "      <td>( 1.8,  1.9)</td>\n",
       "      <td>2.3</td>\n",
       "      <td>( 2.2,  2.3)</td>\n",
       "      <td>6.7</td>\n",
       "      <td>( 6.2,  7.2)</td>\n",
       "      <td>6.8</td>\n",
       "      <td>( 6.3,  7.4)</td>\n",
       "      <td>(37.87256787650, -122.274907975)</td>\n",
       "    </tr>\n",
       "    <tr>\n",
       "      <th>3</th>\n",
       "      <td>CA</td>\n",
       "      <td>Napa</td>\n",
       "      <td>650258</td>\n",
       "      <td>76915</td>\n",
       "      <td>12.3</td>\n",
       "      <td>(11.8, 12.8)</td>\n",
       "      <td>12.7</td>\n",
       "      <td>(12.1, 13.3)</td>\n",
       "      <td>20.7</td>\n",
       "      <td>(20.5, 21.0)</td>\n",
       "      <td>...</td>\n",
       "      <td>(32.7, 33.3)</td>\n",
       "      <td>2.8</td>\n",
       "      <td>( 2.7,  2.9)</td>\n",
       "      <td>2.6</td>\n",
       "      <td>( 2.5,  2.7)</td>\n",
       "      <td>11.2</td>\n",
       "      <td>(10.0, 12.5)</td>\n",
       "      <td>11.2</td>\n",
       "      <td>(10.0, 12.3)</td>\n",
       "      <td>(38.29804246490, -122.301093331)</td>\n",
       "    </tr>\n",
       "    <tr>\n",
       "      <th>4</th>\n",
       "      <td>FL</td>\n",
       "      <td>Sunrise</td>\n",
       "      <td>1269700</td>\n",
       "      <td>84439</td>\n",
       "      <td>22.8</td>\n",
       "      <td>(22.1, 23.5)</td>\n",
       "      <td>23.3</td>\n",
       "      <td>(22.6, 24.1)</td>\n",
       "      <td>22.8</td>\n",
       "      <td>(22.5, 23.1)</td>\n",
       "      <td>...</td>\n",
       "      <td>(38.3, 38.8)</td>\n",
       "      <td>3.7</td>\n",
       "      <td>( 3.5,  3.8)</td>\n",
       "      <td>3.3</td>\n",
       "      <td>( 3.2,  3.4)</td>\n",
       "      <td>16.2</td>\n",
       "      <td>(14.3, 18.5)</td>\n",
       "      <td>15.8</td>\n",
       "      <td>(14.2, 17.7)</td>\n",
       "      <td>(26.15468783030, -80.2998411020)</td>\n",
       "    </tr>\n",
       "  </tbody>\n",
       "</table>\n",
       "<p>5 rows × 117 columns</p>\n",
       "</div>"
      ],
      "text/plain": [
       "  StateAbbr PlaceName  PlaceFIPS  Population2010  ACCESS2_CrudePrev  \\\n",
       "0        CA    Folsom     624638           72203                7.5   \n",
       "1        FL     Largo    1239425           77648               19.6   \n",
       "2        CA  Berkeley     606000          112580                7.7   \n",
       "3        CA      Napa     650258           76915               12.3   \n",
       "4        FL   Sunrise    1269700           84439               22.8   \n",
       "\n",
       "  ACCESS2_Crude95CI  ACCESS2_AdjPrev ACCESS2_Adj95CI  ARTHRITIS_CrudePrev  \\\n",
       "0      ( 7.0,  8.0)              7.7    ( 7.2,  8.2)                 16.9   \n",
       "1      (19.1, 20.2)             20.9    (20.4, 21.5)                 30.6   \n",
       "2      ( 7.3,  8.1)              7.1    ( 6.8,  7.3)                 15.1   \n",
       "3      (11.8, 12.8)             12.7    (12.1, 13.3)                 20.7   \n",
       "4      (22.1, 23.5)             23.3    (22.6, 24.1)                 22.8   \n",
       "\n",
       "  ARTHRITIS_Crude95CI  ...  SLEEP_Adj95CI STROKE_CrudePrev  STROKE_Crude95CI  \\\n",
       "0        (16.6, 17.2)  ...   (32.7, 33.5)              1.9      ( 1.9,  2.0)   \n",
       "1        (30.3, 30.9)  ...   (39.5, 40.1)              4.5      ( 4.4,  4.7)   \n",
       "2        (15.0, 15.3)  ...   (32.3, 32.7)              1.9      ( 1.8,  1.9)   \n",
       "3        (20.5, 21.0)  ...   (32.7, 33.3)              2.8      ( 2.7,  2.9)   \n",
       "4        (22.5, 23.1)  ...   (38.3, 38.8)              3.7      ( 3.5,  3.8)   \n",
       "\n",
       "  STROKE_AdjPrev  STROKE_Adj95CI TEETHLOST_CrudePrev  TEETHLOST_Crude95CI  \\\n",
       "0            2.0    ( 2.0,  2.1)                 6.8         ( 5.7,  8.0)   \n",
       "1            3.2    ( 3.2,  3.3)                18.3         (16.9, 19.8)   \n",
       "2            2.3    ( 2.2,  2.3)                 6.7         ( 6.2,  7.2)   \n",
       "3            2.6    ( 2.5,  2.7)                11.2         (10.0, 12.5)   \n",
       "4            3.3    ( 3.2,  3.4)                16.2         (14.3, 18.5)   \n",
       "\n",
       "  TEETHLOST_AdjPrev  TEETHLOST_Adj95CI                       Geolocation  \n",
       "0               6.8       ( 5.7,  7.9)  (38.67504943280, -121.147605753)  \n",
       "1              18.0       (16.7, 19.4)  (27.90909077340, -82.7714203383)  \n",
       "2               6.8       ( 6.3,  7.4)  (37.87256787650, -122.274907975)  \n",
       "3              11.2       (10.0, 12.3)  (38.29804246490, -122.301093331)  \n",
       "4              15.8       (14.2, 17.7)  (26.15468783030, -80.2998411020)  \n",
       "\n",
       "[5 rows x 117 columns]"
      ]
     },
     "execution_count": 677,
     "metadata": {},
     "output_type": "execute_result"
    }
   ],
   "source": [
    "cities = pd.read_csv('500_Cities__City-level_Data__GIS_Friendly_Format___2018_release.csv')\n",
    "cities.head()\n"
   ]
  },
  {
   "cell_type": "code",
   "execution_count": 697,
   "metadata": {},
   "outputs": [],
   "source": [
    "from geopy.geocoders import Nominatim"
   ]
  },
  {
   "cell_type": "code",
   "execution_count": 700,
   "metadata": {},
   "outputs": [
    {
     "name": "stdout",
     "output_type": "stream",
     "text": [
      "824, South Laredo Street, Arsenal, San Antonio, Bexar County, Texas, 78204, USA\n"
     ]
    }
   ],
   "source": [
    "geolocator = Nominatim(user_agent=\"specify_your_app_name_here\")\n",
    "location = geolocator.reverse(\"29.4167, -98.5\")\n",
    "print(location.address)"
   ]
  },
  {
   "cell_type": "code",
   "execution_count": 757,
   "metadata": {},
   "outputs": [],
   "source": [
    "\n",
    "#get help with this!!!\n",
    "\n",
    " def find_centroid(row):\n",
    "    '''\n",
    "    Helper function to return the centroid of a polygonal bounding box of longitude, latitude coordinates\n",
    "    '''\n",
    "    \n",
    "    try:\n",
    "        row_ = eval(row)\n",
    "        lst_of_coords = [item for sublist in row_ for item in sublist]\n",
    "        longitude = [p[0] for p in lst_of_coords]\n",
    "        latitude = [p[1] for p in lst_of_coords]\n",
    "        return (sum(latitude) / float(len(latitude)), sum(longitude) / float(len(longitude)))\n",
    "        \n",
    "    except:\n",
    "        return None\n",
    "\n",
    "\n",
    "# Create a new column called 'centroid' \n",
    "df_location3['centroid'] = list(map(lambda row: find_centroid(row), df_location3['bounding_box']))"
   ]
  },
  {
   "cell_type": "code",
   "execution_count": 766,
   "metadata": {},
   "outputs": [
    {
     "data": {
      "text/plain": [
       "[[[-98.778559, 29.141956],\n",
       "  [-98.778559, 29.693046],\n",
       "  [-98.302744, 29.693046],\n",
       "  [-98.302744, 29.141956]]]"
      ]
     },
     "execution_count": 766,
     "metadata": {},
     "output_type": "execute_result"
    }
   ],
   "source": [
    "df_location[\"bounding_box\"][1]"
   ]
  },
  {
   "cell_type": "code",
   "execution_count": 768,
   "metadata": {},
   "outputs": [],
   "source": [
    "list2 = [item[0] for item in df_location[\"bounding_box\"][1]]"
   ]
  },
  {
   "cell_type": "code",
   "execution_count": 769,
   "metadata": {},
   "outputs": [
    {
     "data": {
      "text/plain": [
       "[[-98.778559, 29.141956]]"
      ]
     },
     "execution_count": 769,
     "metadata": {},
     "output_type": "execute_result"
    }
   ],
   "source": [
    "list2"
   ]
  },
  {
   "cell_type": "code",
   "execution_count": 750,
   "metadata": {},
   "outputs": [
    {
     "data": {
      "text/html": [
       "<div>\n",
       "<style scoped>\n",
       "    .dataframe tbody tr th:only-of-type {\n",
       "        vertical-align: middle;\n",
       "    }\n",
       "\n",
       "    .dataframe tbody tr th {\n",
       "        vertical-align: top;\n",
       "    }\n",
       "\n",
       "    .dataframe thead th {\n",
       "        text-align: right;\n",
       "    }\n",
       "</style>\n",
       "<table border=\"1\" class=\"dataframe\">\n",
       "  <thead>\n",
       "    <tr style=\"text-align: right;\">\n",
       "      <th></th>\n",
       "      <th>id_str</th>\n",
       "      <th>text</th>\n",
       "      <th>place</th>\n",
       "      <th>coordinates</th>\n",
       "      <th>created_at</th>\n",
       "      <th>lang</th>\n",
       "      <th>possibly_sensitive</th>\n",
       "      <th>retweeted</th>\n",
       "      <th>RT</th>\n",
       "      <th>keto</th>\n",
       "      <th>...</th>\n",
       "      <th>atkins</th>\n",
       "      <th>paleo</th>\n",
       "      <th>celeryjuice</th>\n",
       "      <th>bounding_box</th>\n",
       "      <th>type</th>\n",
       "      <th>name</th>\n",
       "      <th>country_code</th>\n",
       "      <th>text_clean</th>\n",
       "      <th>index</th>\n",
       "      <th>centroid</th>\n",
       "    </tr>\n",
       "  </thead>\n",
       "  <tbody>\n",
       "    <tr>\n",
       "      <th>0</th>\n",
       "      <td>1141553418944876544</td>\n",
       "      <td>It’s hard when nobody can afford food without ...</td>\n",
       "      <td>{'id': '3faf04da3454baba', 'url': 'https://api...</td>\n",
       "      <td>None</td>\n",
       "      <td>2019-06-20 03:48:38</td>\n",
       "      <td>en</td>\n",
       "      <td>NaN</td>\n",
       "      <td>False</td>\n",
       "      <td>False</td>\n",
       "      <td>False</td>\n",
       "      <td>...</td>\n",
       "      <td>False</td>\n",
       "      <td>False</td>\n",
       "      <td>False</td>\n",
       "      <td>[[[-82.901433, 42.578183], [-82.901433, 42.617...</td>\n",
       "      <td>Polygon</td>\n",
       "      <td>Mount Clemens</td>\n",
       "      <td>US</td>\n",
       "      <td>It’s hard when nobody can afford food without ...</td>\n",
       "      <td>0</td>\n",
       "      <td>None</td>\n",
       "    </tr>\n",
       "    <tr>\n",
       "      <th>1</th>\n",
       "      <td>1141555808351576064</td>\n",
       "      <td>Whoo hooo. Happy dance time. My June Keto Krat...</td>\n",
       "      <td>{'id': '3df4f427b5a60fea', 'url': 'https://api...</td>\n",
       "      <td>{'type': 'Point', 'coordinates': [-98.5, 29.41...</td>\n",
       "      <td>2019-06-20 03:58:08</td>\n",
       "      <td>en</td>\n",
       "      <td>0.0</td>\n",
       "      <td>False</td>\n",
       "      <td>False</td>\n",
       "      <td>True</td>\n",
       "      <td>...</td>\n",
       "      <td>False</td>\n",
       "      <td>False</td>\n",
       "      <td>False</td>\n",
       "      <td>[[[-98.778559, 29.141956], [-98.778559, 29.693...</td>\n",
       "      <td>Polygon</td>\n",
       "      <td>San Antonio</td>\n",
       "      <td>US</td>\n",
       "      <td>Whoo hooo. Happy dance time. My June Keto Krat...</td>\n",
       "      <td>1</td>\n",
       "      <td>None</td>\n",
       "    </tr>\n",
       "    <tr>\n",
       "      <th>2</th>\n",
       "      <td>1141558859003129856</td>\n",
       "      <td>@Jasperr____ get the keto coffee ones 🤪</td>\n",
       "      <td>{'id': '1193edda55d6fa3d', 'url': 'https://api...</td>\n",
       "      <td>None</td>\n",
       "      <td>2019-06-20 04:10:15</td>\n",
       "      <td>en</td>\n",
       "      <td>NaN</td>\n",
       "      <td>False</td>\n",
       "      <td>False</td>\n",
       "      <td>True</td>\n",
       "      <td>...</td>\n",
       "      <td>False</td>\n",
       "      <td>False</td>\n",
       "      <td>False</td>\n",
       "      <td>[[[-117.967313, 34.001861], [-117.967313, 34.0...</td>\n",
       "      <td>Polygon</td>\n",
       "      <td>West Covina</td>\n",
       "      <td>US</td>\n",
       "      <td>get the keto coffee ones 🤪</td>\n",
       "      <td>2</td>\n",
       "      <td>None</td>\n",
       "    </tr>\n",
       "    <tr>\n",
       "      <th>3</th>\n",
       "      <td>1141567158788468736</td>\n",
       "      <td>Gotta try this keto diet shits</td>\n",
       "      <td>{'id': '67b98f17fdcf20be', 'url': 'https://api...</td>\n",
       "      <td>None</td>\n",
       "      <td>2019-06-20 04:43:14</td>\n",
       "      <td>en</td>\n",
       "      <td>NaN</td>\n",
       "      <td>False</td>\n",
       "      <td>False</td>\n",
       "      <td>True</td>\n",
       "      <td>...</td>\n",
       "      <td>False</td>\n",
       "      <td>False</td>\n",
       "      <td>False</td>\n",
       "      <td>[[[-71.191421, 42.227797], [-71.191421, 42.399...</td>\n",
       "      <td>Polygon</td>\n",
       "      <td>Boston</td>\n",
       "      <td>US</td>\n",
       "      <td>Gotta try this keto diet shits</td>\n",
       "      <td>3</td>\n",
       "      <td>None</td>\n",
       "    </tr>\n",
       "    <tr>\n",
       "      <th>4</th>\n",
       "      <td>1141571340467679232</td>\n",
       "      <td>I’LL go back on 100% keto on my bday!! \\n7/1 t...</td>\n",
       "      <td>{'id': '1711fcf6c5dcde3c', 'url': 'https://api...</td>\n",
       "      <td>None</td>\n",
       "      <td>2019-06-20 04:59:51</td>\n",
       "      <td>en</td>\n",
       "      <td>NaN</td>\n",
       "      <td>False</td>\n",
       "      <td>False</td>\n",
       "      <td>True</td>\n",
       "      <td>...</td>\n",
       "      <td>False</td>\n",
       "      <td>False</td>\n",
       "      <td>False</td>\n",
       "      <td>[[[-73.285247, 40.705724000000004], [-73.28524...</td>\n",
       "      <td>Polygon</td>\n",
       "      <td>Bay Shore</td>\n",
       "      <td>US</td>\n",
       "      <td>I’LL go back on 100% keto on my bday!! 7/1 the...</td>\n",
       "      <td>4</td>\n",
       "      <td>None</td>\n",
       "    </tr>\n",
       "  </tbody>\n",
       "</table>\n",
       "<p>5 rows × 24 columns</p>\n",
       "</div>"
      ],
      "text/plain": [
       "                id_str                                               text  \\\n",
       "0  1141553418944876544  It’s hard when nobody can afford food without ...   \n",
       "1  1141555808351576064  Whoo hooo. Happy dance time. My June Keto Krat...   \n",
       "2  1141558859003129856            @Jasperr____ get the keto coffee ones 🤪   \n",
       "3  1141567158788468736                     Gotta try this keto diet shits   \n",
       "4  1141571340467679232  I’LL go back on 100% keto on my bday!! \\n7/1 t...   \n",
       "\n",
       "                                               place  \\\n",
       "0  {'id': '3faf04da3454baba', 'url': 'https://api...   \n",
       "1  {'id': '3df4f427b5a60fea', 'url': 'https://api...   \n",
       "2  {'id': '1193edda55d6fa3d', 'url': 'https://api...   \n",
       "3  {'id': '67b98f17fdcf20be', 'url': 'https://api...   \n",
       "4  {'id': '1711fcf6c5dcde3c', 'url': 'https://api...   \n",
       "\n",
       "                                         coordinates          created_at lang  \\\n",
       "0                                               None 2019-06-20 03:48:38   en   \n",
       "1  {'type': 'Point', 'coordinates': [-98.5, 29.41... 2019-06-20 03:58:08   en   \n",
       "2                                               None 2019-06-20 04:10:15   en   \n",
       "3                                               None 2019-06-20 04:43:14   en   \n",
       "4                                               None 2019-06-20 04:59:51   en   \n",
       "\n",
       "   possibly_sensitive  retweeted     RT   keto  ...  atkins  paleo  \\\n",
       "0                 NaN      False  False  False  ...   False  False   \n",
       "1                 0.0      False  False   True  ...   False  False   \n",
       "2                 NaN      False  False   True  ...   False  False   \n",
       "3                 NaN      False  False   True  ...   False  False   \n",
       "4                 NaN      False  False   True  ...   False  False   \n",
       "\n",
       "   celeryjuice                                       bounding_box     type  \\\n",
       "0        False  [[[-82.901433, 42.578183], [-82.901433, 42.617...  Polygon   \n",
       "1        False  [[[-98.778559, 29.141956], [-98.778559, 29.693...  Polygon   \n",
       "2        False  [[[-117.967313, 34.001861], [-117.967313, 34.0...  Polygon   \n",
       "3        False  [[[-71.191421, 42.227797], [-71.191421, 42.399...  Polygon   \n",
       "4        False  [[[-73.285247, 40.705724000000004], [-73.28524...  Polygon   \n",
       "\n",
       "            name  country_code  \\\n",
       "0  Mount Clemens            US   \n",
       "1    San Antonio            US   \n",
       "2    West Covina            US   \n",
       "3         Boston            US   \n",
       "4      Bay Shore            US   \n",
       "\n",
       "                                          text_clean index centroid  \n",
       "0  It’s hard when nobody can afford food without ...     0     None  \n",
       "1  Whoo hooo. Happy dance time. My June Keto Krat...     1     None  \n",
       "2                         get the keto coffee ones 🤪     2     None  \n",
       "3                     Gotta try this keto diet shits     3     None  \n",
       "4  I’LL go back on 100% keto on my bday!! 7/1 the...     4     None  \n",
       "\n",
       "[5 rows x 24 columns]"
      ]
     },
     "execution_count": 750,
     "metadata": {},
     "output_type": "execute_result"
    }
   ],
   "source": [
    "df_location3.head()"
   ]
  },
  {
   "cell_type": "code",
   "execution_count": null,
   "metadata": {},
   "outputs": [],
   "source": [
    "row_ = eval(row)\n",
    "lst_of_coords = [item for sublist in row_ for item in sublist]\n",
    "longitude = [p[0] for p in lst_of_coords]\n",
    "latitude = [p[1] for p in lst_of_coords]\n",
    "return (sum(latitude) / float(len(latitude)), sum(longitude) / float(len(longitude)))"
   ]
  },
  {
   "cell_type": "code",
   "execution_count": 721,
   "metadata": {
    "scrolled": true
   },
   "outputs": [
    {
     "data": {
      "text/html": [
       "<div>\n",
       "<style scoped>\n",
       "    .dataframe tbody tr th:only-of-type {\n",
       "        vertical-align: middle;\n",
       "    }\n",
       "\n",
       "    .dataframe tbody tr th {\n",
       "        vertical-align: top;\n",
       "    }\n",
       "\n",
       "    .dataframe thead th {\n",
       "        text-align: right;\n",
       "    }\n",
       "</style>\n",
       "<table border=\"1\" class=\"dataframe\">\n",
       "  <thead>\n",
       "    <tr style=\"text-align: right;\">\n",
       "      <th></th>\n",
       "      <th>id_str</th>\n",
       "      <th>text</th>\n",
       "      <th>place</th>\n",
       "      <th>coordinates</th>\n",
       "      <th>created_at</th>\n",
       "      <th>lang</th>\n",
       "      <th>possibly_sensitive</th>\n",
       "      <th>retweeted</th>\n",
       "      <th>RT</th>\n",
       "      <th>keto</th>\n",
       "      <th>...</th>\n",
       "      <th>atkins</th>\n",
       "      <th>paleo</th>\n",
       "      <th>celeryjuice</th>\n",
       "      <th>bounding_box</th>\n",
       "      <th>type</th>\n",
       "      <th>name</th>\n",
       "      <th>country_code</th>\n",
       "      <th>text_clean</th>\n",
       "      <th>index</th>\n",
       "      <th>centroid</th>\n",
       "    </tr>\n",
       "  </thead>\n",
       "  <tbody>\n",
       "    <tr>\n",
       "      <th>0</th>\n",
       "      <td>1141553418944876544</td>\n",
       "      <td>It’s hard when nobody can afford food without ...</td>\n",
       "      <td>{'id': '3faf04da3454baba', 'url': 'https://api...</td>\n",
       "      <td>None</td>\n",
       "      <td>2019-06-20 03:48:38</td>\n",
       "      <td>en</td>\n",
       "      <td>NaN</td>\n",
       "      <td>False</td>\n",
       "      <td>False</td>\n",
       "      <td>False</td>\n",
       "      <td>...</td>\n",
       "      <td>False</td>\n",
       "      <td>False</td>\n",
       "      <td>False</td>\n",
       "      <td>[[[-82.901433, 42.578183], [-82.901433, 42.617...</td>\n",
       "      <td>Polygon</td>\n",
       "      <td>Mount Clemens</td>\n",
       "      <td>US</td>\n",
       "      <td>It’s hard when nobody can afford food without ...</td>\n",
       "      <td>0</td>\n",
       "      <td>&lt;map object at 0x1a23302c50&gt;</td>\n",
       "    </tr>\n",
       "  </tbody>\n",
       "</table>\n",
       "<p>1 rows × 24 columns</p>\n",
       "</div>"
      ],
      "text/plain": [
       "                id_str                                               text  \\\n",
       "0  1141553418944876544  It’s hard when nobody can afford food without ...   \n",
       "\n",
       "                                               place coordinates  \\\n",
       "0  {'id': '3faf04da3454baba', 'url': 'https://api...        None   \n",
       "\n",
       "           created_at lang  possibly_sensitive  retweeted     RT   keto  ...  \\\n",
       "0 2019-06-20 03:48:38   en                 NaN      False  False  False  ...   \n",
       "\n",
       "   atkins  paleo  celeryjuice  \\\n",
       "0   False  False        False   \n",
       "\n",
       "                                        bounding_box     type           name  \\\n",
       "0  [[[-82.901433, 42.578183], [-82.901433, 42.617...  Polygon  Mount Clemens   \n",
       "\n",
       "   country_code                                         text_clean index  \\\n",
       "0            US  It’s hard when nobody can afford food without ...     0   \n",
       "\n",
       "                       centroid  \n",
       "0  <map object at 0x1a23302c50>  \n",
       "\n",
       "[1 rows x 24 columns]"
      ]
     },
     "execution_count": 721,
     "metadata": {},
     "output_type": "execute_result"
    }
   ],
   "source": [
    "df_location3.head(1)"
   ]
  },
  {
   "cell_type": "code",
   "execution_count": 724,
   "metadata": {},
   "outputs": [
    {
     "name": "stdout",
     "output_type": "stream",
     "text": [
      "<map object at 0x1a23302c50>\n"
     ]
    }
   ],
   "source": [
    "print(df_location3[\"centroid\"][0])"
   ]
  },
  {
   "cell_type": "code",
   "execution_count": 732,
   "metadata": {},
   "outputs": [
    {
     "name": "stdout",
     "output_type": "stream",
     "text": [
      "Mesquite, TX (32.7749375, -96.60214250000001)\n",
      "Arvada, CO (39.8202065, -105.12818850000001)\n",
      "South Bend, IN (41.679655499999996, -86.290863)\n",
      "Bend, OR (44.059938, -121.311582)\n",
      "Cicero, IL (41.843776, -87.75880049999999)\n",
      "Fremont, CA (37.5236445, -121.979527)\n",
      "Norwalk, CA (33.9072505, -118.0767455)\n",
      "Norwalk, CT (41.1562815, -73.4409395)\n",
      "Hayward, CA (37.641270500000005, -122.0857755)\n",
      "Murrieta, CA (33.5669805, -117.1965255)\n",
      "Rancho Cucamonga, CA (34.12167, -117.5621525)\n",
      "Sandy, UT (40.572455500000004, -111.8609655)\n",
      "Oxnard, CA (34.181956, -119.165389)\n",
      "Fort Lauderdale, FL (26.150368, -80.1491725)\n",
      "Nashua, NH (42.752969500000006, -71.50411700000001)\n",
      "Reading, PA (40.3341185, -75.9250215)\n",
      "Racine, WI (42.738642999999996, -87.82412550000001)\n",
      "Spokane, WA (47.667438, -117.43454699999998)\n",
      "Bellingham, WA (48.753352500000005, -122.430277)\n",
      "Bakersfield, CA (35.3469015, -119.025163)\n",
      "Lowell, MA (42.636248, -71.326858)\n",
      "Gainesville, FL (29.673171500000002, -82.3302695)\n",
      "Athens, GA (33.9563835, -83.3997795)\n",
      "Lawton, OK (34.620960499999995, -98.4225265)\n",
      "San Antonio, TX (29.417501, -98.54065150000001)\n",
      "Santa Clarita, CA (34.415631, -118.5032585)\n",
      "Worcester, MA (42.275760000000005, -71.812438)\n",
      "Simi Valley, CA (34.2673105, -118.731399)\n",
      "Yonkers, NY (40.944567500000005, -73.86085700000001)\n",
      "Stockton, CA (37.980826, -121.30042549999999)\n",
      "Huntsville, AL (34.7060265, -86.611411)\n",
      "Palm Bay, FL (27.986947, -80.65181799999999)\n",
      "Plantation, FL (26.1245075, -80.26351700000001)\n",
      "Mobile, AL (30.683649000000003, -88.16155549999999)\n",
      "McKinney, TX (33.1946515, -96.69960400000001)\n",
      "Olathe, KS (38.886623, -94.80808499999999)\n",
      "South Gate, CA (33.938045, -118.19402550000001)\n",
      "Anaheim, CA (33.842863, -117.851089)\n",
      "Sparks, NV (39.574216500000006, -119.71069449999999)\n",
      "Memphis, TN (35.1335205, -89.92202900000001)\n",
      "Pasadena, CA (34.17731, -118.131964)\n",
      "Lansing, MI (42.71204899999999, -84.55789899999999)\n",
      "Melbourne, FL (28.117874, -80.649699)\n",
      "Jackson, MS (32.230987, -90.1580165)\n",
      "Greeley, CO (40.4144955, -104.735476)\n",
      "Chico, CA (39.747037, -121.83373)\n",
      "Amarillo, TX (35.2111155, -101.816092)\n",
      "San Bernardino, CA (34.134924999999996, -117.294096)\n",
      "Virginia Beach, VA (36.8025415, -76.069946)\n",
      "Carlsbad, CA (33.121483999999995, -117.28792349999999)\n",
      "Indianapolis, IN (39.7795625, -86.1429225)\n",
      "Escondido, CA (33.120359, -117.07231850000001)\n",
      "Overland Park, KS (38.931549000000004, -94.67509349999999)\n",
      "Pasadena, TX (29.668301, -95.158936)\n",
      "Lincoln, NE (40.803235, -96.6965625)\n",
      "Vacaville, CA (38.362843999999996, -121.9719265)\n",
      "Troy, MI (42.579003, -83.1480435)\n",
      "Hammond, IN (41.6381905, -87.4788145)\n",
      "San Francisco, CA (37.7706565, -122.4359785)\n",
      "Montgomery, AL (32.364145, -86.2447285)\n",
      "Hampton, VA (37.0508965, -76.36227600000001)\n",
      "Philadelphia, PA (40.0048655, -75.117998)\n",
      "Avondale, AZ (33.4392955, -112.3152115)\n",
      "Louisville, KY (38.195555, -85.7223455)\n",
      "Farmington Hills, MI (42.4842785, -83.37718100000001)\n",
      "Jersey City, NJ (40.7180015, -74.066663)\n",
      "Hartford, CT (41.765617, -72.6809665)\n",
      "Cincinnati, OH (39.137038000000004, -84.5398125)\n",
      "Tyler, TX (32.315661500000004, -95.31704)\n",
      "Portland, OR (45.536402, -122.63090799999999)\n",
      "Pembroke Pines, FL (26.0278895, -80.3279985)\n",
      "Longview, TX (32.503280000000004, -94.731341)\n",
      "Davie, FL (26.0781705, -80.285189)\n",
      "Glendale, AZ (33.386464, -111.703345)\n",
      "Raleigh, NC (35.845992499999994, -78.6572445)\n",
      "San Angelo, TX (31.4405225, -100.453089)\n",
      "Kenosha, WI (42.589265499999996, -87.88340500000001)\n",
      "St. Louis, MO (38.653099, -90.243462)\n",
      "Stamford, CT (41.0983345, -73.554097)\n",
      "Deltona, FL (28.904590499999998, -81.2200085)\n",
      "Oakland, CA (37.791994, -122.2286855)\n",
      "Los Angeles, CA (34.0207895, -118.4119065)\n",
      "Grand Rapids, MI (42.9564115, -85.6411415)\n",
      "Tacoma, WA (47.2429605, -122.455344)\n",
      "Chula Vista, CA (32.633767, -117.02246299999999)\n",
      "Akron, OH (41.0808775, -81.5167515)\n",
      "Waukegan, IL (42.36878, -87.88322600000001)\n",
      "Tuscaloosa, AL (33.1966005, -87.5334065)\n",
      "Berkeley, CA (37.8758455, -122.27952149999999)\n",
      "Chicago, IL (41.8335845, -87.73201300000001)\n",
      "Mesa, AZ (33.4057545, -111.7375655)\n",
      "Parma, OH (41.3849235, -81.7348115)\n",
      "Hialeah, FL (25.857732, -80.3046625)\n",
      "Salinas, CA (36.6891495, -121.6412685)\n",
      "Gresham, OR (45.510140500000006, -122.4331955)\n",
      "Torrance, CA (33.8337145, -118.3512175)\n",
      "Murfreesboro, TN (35.84742, -86.40961)\n",
      "Tulsa, OK (36.1093915, -95.91364200000001)\n",
      "Richardson, TX (32.9644845, -96.69093699999999)\n",
      "Spokane Valley, WA (47.6625765, -117.234439)\n",
      "Bellevue, WA (47.5978565, -122.149768)\n",
      "Evanston, IL (42.045437, -87.6991955)\n",
      "Sioux Falls, SD (43.5410145, -96.7311425)\n",
      "Modesto, CA (37.663817, -120.987468)\n",
      "Alexandria, VA (38.81738, -77.0908695)\n",
      "Gilbert, AZ (33.295215, -111.73856649999999)\n",
      "Irving, TX (32.863917, -96.961483)\n",
      "Waco, TX (31.547449, -97.1691565)\n",
      "Roseville, CA (38.7631605, -121.3007305)\n",
      "Kansas City, MO (39.1000485, -94.5592815)\n",
      "Bridgeport, CT (41.1856745, -73.1991185)\n",
      "Roswell, GA (34.0412115, -84.340338)\n",
      "Mission Viejo, CA (33.603508000000005, -117.656773)\n",
      "Houston, TX (29.838495, -95.44648649999999)\n",
      "Springfield, IL (39.774345999999994, -89.6596895)\n",
      "Chandler, AZ (33.282450499999996, -111.8808735)\n",
      "Pompano Beach, FL (26.251895, -80.1386455)\n",
      "Newark, NJ (40.734494, -74.184848)\n",
      "Shreveport, LA (32.461107, -93.809434)\n",
      "Yakima, WA (46.5942225, -120.5297595)\n",
      "Rialto, CA (34.0976985, -117.386642)\n",
      "Visalia, CA (36.319486, -119.3195265)\n",
      "Brockton, MA (42.0845665, -71.02677449999999)\n",
      "Oklahoma City, OK (35.4828435, -97.552161)\n",
      "San Leandro, CA (37.7050435, -122.162294)\n",
      "Decatur, IL (39.854585, -88.93668350000002)\n",
      "Fort Collins, CO (40.564190499999995, -105.0639425)\n",
      "Corpus Christi, TX (27.737151, -97.432425)\n",
      "Billings, MT (45.7974455, -108.56292199999999)\n",
      "O'Fallon, MO (38.7796565, -90.70264399999999)\n",
      "Redding, CA (40.5539945, -122.36005300000001)\n",
      "Edmond, OK (35.695222, -97.45574099999999)\n",
      "Round Rock, TX (30.5193405, -97.672732)\n",
      "San Diego, CA (32.810012, -117.104989)\n",
      "Allentown, PA (40.591825, -75.4839355)\n",
      "Toledo, OH (41.65659049999999, -83.574671)\n",
      "Detroit, MI (42.3527865, -83.099288)\n",
      "Honolulu, HI (21.319943499999997, -157.799589)\n",
      "Bloomington, MN (44.82446949999999, -93.301344)\n",
      "Plano, TX (33.061242500000006, -96.7349005)\n",
      "Whittier, CA (33.9759175, -118.0188555)\n",
      "Columbia, SC (34.0189335, -80.9954175)\n",
      "Midland, TX (31.9943, -102.10462700000001)\n",
      "Dallas, TX (32.819858499999995, -96.7617535)\n",
      "Burbank, CA (34.182159999999996, -118.325145)\n",
      "Pittsburgh, PA (40.431388999999996, -79.9806895)\n",
      "Wichita, KS (37.6838965, -97.343915)\n",
      "Compton, CA (33.8849685, -118.222017)\n",
      "Davenport, IA (41.537943, -90.597442)\n",
      "West Palm Beach, FL (26.721896, -80.1226195)\n",
      "Suffolk, VA (36.8100165, -76.535528)\n",
      "Hillsboro, OR (45.530778999999995, -122.93553)\n",
      "Baton Rouge, LA (30.4591, -91.09079949999999)\n",
      "Westminster, CO (39.8992865, -105.068348)\n",
      "Westminster, CA (33.747313500000004, -117.99372799999999)\n",
      "Kent, WA (47.3923115, -122.2180755)\n",
      "Phoenix, AZ (33.5528625, -112.12467649999999)\n",
      "Tracy, CA (37.723349999999996, -121.436217)\n",
      "Denton, TX (33.2024955, -97.11477050000002)\n",
      "Buffalo, NY (42.896229500000004, -78.85356300000001)\n",
      "Sandy Springs, GA (33.943456999999995, -84.35244449999999)\n",
      "Arlington, TX (32.70185, -97.1356375)\n",
      "Sugar Land, TX (29.603464000000002, -95.6316895)\n",
      "Tucson, AZ (32.1893905, -110.9155735)\n",
      "Thornton, CO (39.9054745, -104.949845)\n",
      "Boulder, CO (40.023981500000005, -105.2426865)\n",
      "Indio, CA (33.7446325, -116.237907)\n",
      "Victorville, CA (34.531222, -117.3630675)\n",
      "Springfield, MA (42.1130625, -72.54558449999999)\n",
      "Minneapolis, MN (44.9706105, -93.2620465)\n",
      "Lewisville, TX (33.042437, -96.991828)\n",
      "Salem, OR (44.935084, -123.029015)\n",
      "Corona, CA (33.859093, -117.58565800000001)\n",
      "Roanoke, VA (37.274488500000004, -79.95791)\n",
      "West Valley City, UT (40.6787035, -111.997441)\n",
      "Yuma, AZ (32.668218, -114.58475250000001)\n",
      "Salt Lake City, UT (40.765805, -111.917026)\n",
      "Wichita Falls, TX (33.92642, -98.52005650000001)\n",
      "Manchester, NH (42.971199, -71.4440805)\n",
      "Newton, MA (42.3253925, -71.2136825)\n",
      "Nashville, TN (36.200008, -86.79154899999999)\n",
      "San Mateo, CA (37.552481, -122.3154215)\n",
      "New Orleans, LA (29.982601, -90.011008)\n",
      "Portsmouth, VA (36.841764, -76.35591799999999)\n",
      "Denver, CO (39.713563, -104.9220935)\n",
      "Clearwater, FL (27.9927105, -82.7553405)\n",
      "Charleston, SC (32.7700735, -80.007367)\n",
      "El Monte, CA (34.070871, -118.035289)\n",
      "Fargo, ND (46.8648825, -96.83009249999999)\n",
      "Orlando, FL (28.501678499999997, -81.3677725)\n",
      "Des Moines, IA (41.5764375, -93.6063695)\n",
      "Fort Wayne, IN (41.086917, -85.1700515)\n",
      "Lynn, MA (42.478737, -70.966855)\n",
      "El Paso, TX (31.793368, -106.4174305)\n",
      "Lakeland, FL (28.049601000000003, -81.97270499999999)\n",
      "Elgin, IL (42.0399395, -88.3104475)\n",
      "Fairfield, CA (38.233362, -122.0429745)\n",
      "Washington, DC (38.898602999999994, -77.0143985)\n",
      "Westland, MI (42.3113055, -83.369718)\n",
      "Tempe, AZ (33.392883999999995, -111.928142)\n",
      "Broken Arrow, OK (36.0393055, -95.770195)\n",
      "Citrus Heights, CA (38.693226, -121.2870795)\n",
      "Newport News, VA (37.090301, -76.50780850000001)\n",
      "Vancouver, WA (45.630589, -122.5889745)\n",
      "Hollywood, FL (26.03968, -80.1783915)\n",
      "Santa Clara, CA (37.370990000000006, -121.967821)\n",
      "Palmdale, CA (34.583629, -118.125196)\n",
      "Reno, NV (39.512436, -119.827182)\n",
      "High Point, NC (35.995054499999995, -79.99535850000001)\n",
      "Henderson, NV (36.006256, -115.03833700000001)\n",
      "Fayetteville, NC (35.054626999999996, -79.0021125)\n",
      "Cranston, RI (41.768938, -71.463968)\n",
      "Gary, IN (41.585848999999996, -87.32773350000001)\n",
      "Chesapeake, VA (36.7632155, -76.2958955)\n",
      "Hawthorne, CA (33.914068, -118.34613800000001)\n",
      "Syracuse, NY (43.052606999999995, -76.1288105)\n",
      "Surprise, AZ (33.6466545, -112.379447)\n",
      "Warren, MI (42.492846, -83.0269885)\n",
      "Naperville, IL (41.748496, -88.1613215)\n",
      "Dearborn, MI (42.314732, -83.213557)\n",
      "Flint, MI (42.9944585, -83.72561)\n",
      "Allen, TX (33.112316500000006, -96.672767)\n",
      "Lancaster, CA (34.685827, -118.1632765)\n",
      "Omaha, NE (41.275721000000004, -96.053431)\n",
      "Savannah, GA (32.0172845, -81.1096165)\n",
      "Inglewood, CA (33.953633499999995, -118.3461525)\n",
      "Fontana, CA (34.1081605, -117.462698)\n",
      "Abilene, TX (32.415051000000005, -99.750556)\n",
      "Sterling Heights, MI (42.581306, -83.03057299999999)\n",
      "Norman, OK (35.222301, -97.4451735)\n",
      "Wilmington, NC (34.2075545, -77.86670649999999)\n",
      "Livermore, CA (37.683592000000004, -121.760079)\n",
      "Boca Raton, FL (26.3739755, -80.134986)\n",
      "Downey, CA (33.9376735, -118.130426)\n",
      "New Haven, CT (41.298394, -72.9291585)\n",
      "Trenton, NJ (40.2161325, -74.7733365)\n",
      "Alhambra, CA (34.0855965, -118.136676)\n",
      "Sacramento, CA (38.561722, -121.469664)\n",
      "Camden, NJ (39.9374855, -75.09971250000001)\n",
      "Antioch, CA (37.9856605, -121.79644400000001)\n",
      "Erie, PA (42.110703, -80.08703200000001)\n",
      "Lee's Summit, MO (38.916093000000004, -94.3782315)\n",
      "Evansville, IN (38.0034665, -87.57469049999999)\n",
      "Killeen, TX (31.0793065, -97.75384)\n",
      "Newport Beach, CA (33.617638, -117.874032)\n",
      "Columbus, GA (32.4823035, -84.917307)\n",
      "Fall River, MA (41.6861005, -71.1486405)\n",
      "San Jose, CA (37.331159, -121.8737305)\n",
      "Green Bay, WI (44.5231735, -88.0081985)\n",
      "McAllen, TX (26.24069, -98.2456745)\n",
      "Miami Beach, FL (25.816965500000002, -80.13296249999999)\n",
      "Beaumont, TX (30.086918, -94.12863349999999)\n",
      "Quincy, MA (42.256124, -71.02134)\n",
      "Dayton, OH (39.78035800000001, -84.200366)\n",
      "Charlotte, NC (35.209058999999996, -80.8467855)\n",
      "Irvine, CA (33.689732, -117.7823605)\n",
      "Lakewood, CA (33.8446495, -118.11307550000001)\n",
      "Lakewood, CO (39.685852, -105.1233195)\n",
      "Baltimore, MD (39.284712999999996, -76.62048200000001)\n",
      "El Cajon, CA (32.7992535, -116.9523525)\n",
      "West Covina, CA (34.0471795, -117.89666199999999)\n",
      "Winston-Salem, NC (36.087168500000004, -80.244984)\n",
      "Fresno, CA (36.786041999999995, -119.7824645)\n",
      "Tampa, FL (27.9965945, -82.44269399999999)\n",
      "Santa Barbara, CA (34.429885, -119.701636)\n",
      "Vista, CA (33.184920500000004, -117.23977950000001)\n",
      "Centennial, CO (39.617782500000004, -104.8378075)\n",
      "Clifton, NJ (40.859832, -74.1581305)\n",
      "Duluth, MN (46.758334500000004, -92.12284000000001)\n",
      "Garden Grove, CA (33.769045, -117.96854)\n",
      "Scottsdale, AZ (33.639340000000004, -111.85839849999999)\n",
      "Norfolk, VA (36.895082, -76.255686)\n",
      "Pomona, CA (34.0654505, -117.77291699999999)\n",
      "Austin, TX (30.323345500000002, -97.754724)\n",
      "Eugene, OR (44.065621, -123.1224015)\n",
      "Miami, FL (25.7823535, -80.2333285)\n",
      "Huntington Beach, CA (33.692542, -117.9987325)\n",
      "Fort Smith, AR (35.3572525, -94.370308)\n",
      "Albuquerque, NM (35.1170025, -106.632718)\n",
      "Pearland, TX (29.547884500000002, -95.3268995)\n",
      "North Las Vegas, NV (36.24912449999999, -115.133373)\n",
      "Federal Way, WA (47.307568, -122.334461)\n",
      "Greensboro, NC (36.090396999999996, -79.85736349999999)\n",
      "Carson, CA (33.839611500000004, -118.2480625)\n",
      "Ontario, CA (34.0451585, -117.60378299999999)\n",
      "Milwaukee, WI (43.05672249999999, -87.9672925)\n",
      "Chattanooga, TN (35.0919545, -85.242564)\n",
      "Laredo, TX (27.532077, -99.45467599999999)\n",
      "Thousand Oaks, CA (34.188478, -118.91888650000001)\n",
      "Nampa, ID (43.578912, -116.5696085)\n",
      "Cary, NC (35.7561885, -78.83702100000001)\n",
      "Knoxville, TN (35.9824705, -83.9638415)\n",
      "Daly City, CA (37.678779500000005, -122.4526985)\n",
      "Tallahassee, FL (30.476215500000002, -84.266174)\n",
      "Beaverton, OR (45.484892, -122.80557900000001)\n",
      "Elk Grove, CA (38.4215345, -121.3820915)\n",
      "Atlanta, GA (33.7671945, -84.433106)\n",
      "Independence, MO (39.0880045, -94.3783325)\n",
      "Brownsville, TX (25.9721055, -97.47742600000001)\n",
      "Champaign, IL (40.1074845, -88.27921900000001)\n",
      "Miramar, FL (25.976124000000002, -80.307064)\n",
      "Chino, CA (33.9873325, -117.67325450000001)\n",
      "Danbury, CT (41.4081195, -73.47297850000001)\n",
      "Cape Coral, FL (26.63648, -81.986834)\n",
      "North Charleston, SC (32.914424499999996, -80.04593899999999)\n",
      "Anchorage, AK (61.2350425, -149.7587945)\n",
      "Sunrise, FL (26.1566185, -80.2948925)\n",
      "Clarksville, TN (36.5509835, -87.3221685)\n",
      "Augusta, GA (33.4407175, -82.063185)\n",
      "Everett, WA (47.9599495, -122.23178850000001)\n",
      "College Station, TX (30.585471499999997, -96.29164850000001)\n",
      "Merced, CA (37.316222499999995, -120.47181)\n",
      "Coral Springs, FL (26.270260999999998, -80.2497725)\n",
      "Macon, GA (32.848817499999996, -83.6540795)\n",
      "Richmond, CA (37.948843, -122.362414)\n",
      "Vallejo, CA (38.114777000000004, -122.2302225)\n",
      "Hesperia, CA (34.418775499999995, -117.31909399999999)\n",
      "Frisco, TX (33.1501395, -96.83524899999999)\n",
      "Las Cruces, NM (32.342299499999996, -106.7374385)\n",
      "Boston, MA (42.3136695, -71.0887125)\n",
      "Garland, TX (32.907642, -96.621634)\n",
      "Moreno Valley, CA (33.921924000000004, -117.21791999999999)\n",
      "Ventura, CA (34.289689499999994, -119.22899149999999)\n",
      "Joliet, IL (41.519555999999994, -88.1425115)\n",
      "Santa Rosa, CA (38.4522175, -122.6761085)\n",
      "Concord, CA (37.973327, -121.9986445)\n",
      "Warwick, RI (41.6989405, -71.43667)\n",
      "Fort Worth, TX (32.7799665, -97.2859135)\n",
      "Waterbury, CT (41.5665785, -73.022108)\n",
      "Buena Park, CA (33.8527355, -118.00665699999999)\n",
      "Orem, UT (40.2951135, -111.69646850000001)\n",
      "Birmingham, AL (33.5422375, -86.793917)\n",
      "Little Rock, AR (34.721886, -92.342322)\n",
      "Livonia, MI (42.3973155, -83.37334949999999)\n",
      "Sunnyvale, CA (37.378397, -122.0238405)\n",
      "Colorado Springs, CO (38.8885185, -104.789327)\n",
      "Seattle, WA (47.6130285, -122.34206449999999)\n",
      "Baldwin Park, CA (34.094001, -117.97515399999999)\n",
      "Santa Ana, CA (33.739992, -117.8874385)\n",
      "Oceanside, CA (33.226316, -117.32087899999999)\n",
      "Odessa, TX (31.873838499999998, -102.344087)\n",
      "Longmont, CO (40.1659305, -105.11221649999999)\n",
      "New Bedford, MA (41.668285999999995, -70.938921)\n",
      "Durham, NC (35.9909825, -78.8954405)\n",
      "West Jordan, UT (40.6030705, -111.992317)\n",
      "Temecula, CA (33.501021, -117.1195165)\n",
      "San Marcos, CA (33.1387415, -117.1668165)\n",
      "Long Beach, CA (33.809171500000005, -118.1567105)\n",
      "Provo, UT (40.2486455, -111.67178899999999)\n",
      "Providence, RI (41.817084, -71.42183250000001)\n",
      "Elizabeth, NJ (40.662479, -74.19652450000001)\n",
      "Riverside, CA (33.935822, -117.397616)\n",
      "Clovis, CA (36.830799, -119.636189)\n",
      "Columbus, OH (39.9946835, -82.985772)\n",
      "Ogden, UT (41.2177985, -111.9650695)\n",
      "Ann Arbor, MI (42.270839499999994, -83.7299715)\n",
      "Cleveland, OH (41.495939500000006, -81.705467)\n",
      "Orange, CA (33.810159, -117.824049)\n",
      "Madison, WI (43.0841505, -89.4064205)\n",
      "New York, NY (40.780709, -73.9685415)\n",
      "Lubbock, TX (33.5705265, -101.89717300000001)\n",
      "Santa Maria, CA (34.932367, -120.419584)\n",
      "Richmond, VA (37.529883, -77.49317049999999)\n",
      "Cambridge, MA (42.3781975, -71.112377)\n",
      "Grand Prairie, TX (32.768591, -96.994833)\n",
      "Las Vegas, NV (36.232915, -115.223125)\n",
      "Lafayette, LA (30.206079, -92.0611765)\n",
      "Rockford, IL (42.2571455, -89.01756650000002)\n",
      "Rio Rancho, NM (35.296183, -106.66202399999999)\n",
      "Fullerton, CA (33.8893475, -117.9248925)\n",
      "Sioux City, IA (42.473947499999994, -96.39715)\n",
      "Topeka, KS (39.037579, -95.69073250000001)\n",
      "Costa Mesa, CA (33.6636085, -117.90564549999999)\n",
      "Paterson, NJ (40.915047, -74.16780750000001)\n",
      "Arlington, VA (38.8808445, -77.101999)\n",
      "Pueblo, CO (38.269549999999995, -104.622776)\n",
      "Santa Monica, CA (34.022688, -118.48042000000001)\n",
      "Cedar Rapids, IA (41.976528, -91.6828545)\n"
     ]
    }
   ],
   "source": [
    "pkl_file = open(\"GeoData/US_coord_dict.pkl\", 'rb')\n",
    "US_coord_dict = pickle.load(pkl_file)\n",
    "US_coord_dict\n",
    "\n",
    "d={}\n",
    "for key, value in US_coord_dict.items():\n",
    "    print(key,value)"
   ]
  },
  {
   "cell_type": "code",
   "execution_count": 734,
   "metadata": {},
   "outputs": [
    {
     "data": {
      "text/plain": [
       "47.261213381239344"
      ]
     },
     "execution_count": 734,
     "metadata": {},
     "output_type": "execute_result"
    }
   ],
   "source": [
    "def find_dist_between(tup1, tup2):\n",
    "    '''\n",
    "    INPUT: Two tuples of latitude, longitude coordinates pairs for two cities\n",
    "    OUTPUT: The distance between the cities\n",
    "    '''\n",
    "    \n",
    "    return np.sqrt((tup1[0] - tup2[0])**2 + (tup1[1] - tup2[1])**2)\n",
    "find_dist_between((48.753352500000005, -122.430277), (40.3341185, -75.9250215))"
   ]
  },
  {
   "cell_type": "code",
   "execution_count": 739,
   "metadata": {},
   "outputs": [
    {
     "ename": "KeyError",
     "evalue": "('centroid', 'occurred at index id_str')",
     "output_type": "error",
     "traceback": [
      "\u001b[0;31m---------------------------------------------------------------------------\u001b[0m",
      "\u001b[0;31mKeyError\u001b[0m                                  Traceback (most recent call last)",
      "\u001b[0;32m<ipython-input-739-98e4db31a46f>\u001b[0m in \u001b[0;36m<module>\u001b[0;34m\u001b[0m\n\u001b[1;32m     53\u001b[0m \u001b[0;34m\u001b[0m\u001b[0m\n\u001b[1;32m     54\u001b[0m     \u001b[0;31m# Create a new column called 'closest_major_city'\u001b[0m\u001b[0;34m\u001b[0m\u001b[0;34m\u001b[0m\u001b[0;34m\u001b[0m\u001b[0m\n\u001b[0;32m---> 55\u001b[0;31m     \u001b[0mdf_location3\u001b[0m\u001b[0;34m[\u001b[0m\u001b[0;34m'closest_major_city'\u001b[0m\u001b[0;34m]\u001b[0m \u001b[0;34m=\u001b[0m \u001b[0mdf_location3\u001b[0m\u001b[0;34m.\u001b[0m\u001b[0mapply\u001b[0m\u001b[0;34m(\u001b[0m\u001b[0;32mlambda\u001b[0m \u001b[0mrow\u001b[0m\u001b[0;34m:\u001b[0m \u001b[0mget_closest_major_city_for_US\u001b[0m\u001b[0;34m(\u001b[0m\u001b[0mrow\u001b[0m\u001b[0;34m)\u001b[0m\u001b[0;34m)\u001b[0m\u001b[0;34m\u001b[0m\u001b[0;34m\u001b[0m\u001b[0m\n\u001b[0m\u001b[1;32m     56\u001b[0m \u001b[0;34m\u001b[0m\u001b[0m\n",
      "\u001b[0;32m/anaconda3/lib/python3.7/site-packages/pandas/core/frame.py\u001b[0m in \u001b[0;36mapply\u001b[0;34m(self, func, axis, broadcast, raw, reduce, result_type, args, **kwds)\u001b[0m\n\u001b[1;32m   6485\u001b[0m                          \u001b[0margs\u001b[0m\u001b[0;34m=\u001b[0m\u001b[0margs\u001b[0m\u001b[0;34m,\u001b[0m\u001b[0;34m\u001b[0m\u001b[0;34m\u001b[0m\u001b[0m\n\u001b[1;32m   6486\u001b[0m                          kwds=kwds)\n\u001b[0;32m-> 6487\u001b[0;31m         \u001b[0;32mreturn\u001b[0m \u001b[0mop\u001b[0m\u001b[0;34m.\u001b[0m\u001b[0mget_result\u001b[0m\u001b[0;34m(\u001b[0m\u001b[0;34m)\u001b[0m\u001b[0;34m\u001b[0m\u001b[0;34m\u001b[0m\u001b[0m\n\u001b[0m\u001b[1;32m   6488\u001b[0m \u001b[0;34m\u001b[0m\u001b[0m\n\u001b[1;32m   6489\u001b[0m     \u001b[0;32mdef\u001b[0m \u001b[0mapplymap\u001b[0m\u001b[0;34m(\u001b[0m\u001b[0mself\u001b[0m\u001b[0;34m,\u001b[0m \u001b[0mfunc\u001b[0m\u001b[0;34m)\u001b[0m\u001b[0;34m:\u001b[0m\u001b[0;34m\u001b[0m\u001b[0;34m\u001b[0m\u001b[0m\n",
      "\u001b[0;32m/anaconda3/lib/python3.7/site-packages/pandas/core/apply.py\u001b[0m in \u001b[0;36mget_result\u001b[0;34m(self)\u001b[0m\n\u001b[1;32m    149\u001b[0m             \u001b[0;32mreturn\u001b[0m \u001b[0mself\u001b[0m\u001b[0;34m.\u001b[0m\u001b[0mapply_raw\u001b[0m\u001b[0;34m(\u001b[0m\u001b[0;34m)\u001b[0m\u001b[0;34m\u001b[0m\u001b[0;34m\u001b[0m\u001b[0m\n\u001b[1;32m    150\u001b[0m \u001b[0;34m\u001b[0m\u001b[0m\n\u001b[0;32m--> 151\u001b[0;31m         \u001b[0;32mreturn\u001b[0m \u001b[0mself\u001b[0m\u001b[0;34m.\u001b[0m\u001b[0mapply_standard\u001b[0m\u001b[0;34m(\u001b[0m\u001b[0;34m)\u001b[0m\u001b[0;34m\u001b[0m\u001b[0;34m\u001b[0m\u001b[0m\n\u001b[0m\u001b[1;32m    152\u001b[0m \u001b[0;34m\u001b[0m\u001b[0m\n\u001b[1;32m    153\u001b[0m     \u001b[0;32mdef\u001b[0m \u001b[0mapply_empty_result\u001b[0m\u001b[0;34m(\u001b[0m\u001b[0mself\u001b[0m\u001b[0;34m)\u001b[0m\u001b[0;34m:\u001b[0m\u001b[0;34m\u001b[0m\u001b[0;34m\u001b[0m\u001b[0m\n",
      "\u001b[0;32m/anaconda3/lib/python3.7/site-packages/pandas/core/apply.py\u001b[0m in \u001b[0;36mapply_standard\u001b[0;34m(self)\u001b[0m\n\u001b[1;32m    255\u001b[0m \u001b[0;34m\u001b[0m\u001b[0m\n\u001b[1;32m    256\u001b[0m         \u001b[0;31m# compute the result using the series generator\u001b[0m\u001b[0;34m\u001b[0m\u001b[0;34m\u001b[0m\u001b[0;34m\u001b[0m\u001b[0m\n\u001b[0;32m--> 257\u001b[0;31m         \u001b[0mself\u001b[0m\u001b[0;34m.\u001b[0m\u001b[0mapply_series_generator\u001b[0m\u001b[0;34m(\u001b[0m\u001b[0;34m)\u001b[0m\u001b[0;34m\u001b[0m\u001b[0;34m\u001b[0m\u001b[0m\n\u001b[0m\u001b[1;32m    258\u001b[0m \u001b[0;34m\u001b[0m\u001b[0m\n\u001b[1;32m    259\u001b[0m         \u001b[0;31m# wrap results\u001b[0m\u001b[0;34m\u001b[0m\u001b[0;34m\u001b[0m\u001b[0;34m\u001b[0m\u001b[0m\n",
      "\u001b[0;32m/anaconda3/lib/python3.7/site-packages/pandas/core/apply.py\u001b[0m in \u001b[0;36mapply_series_generator\u001b[0;34m(self)\u001b[0m\n\u001b[1;32m    284\u001b[0m             \u001b[0;32mtry\u001b[0m\u001b[0;34m:\u001b[0m\u001b[0;34m\u001b[0m\u001b[0;34m\u001b[0m\u001b[0m\n\u001b[1;32m    285\u001b[0m                 \u001b[0;32mfor\u001b[0m \u001b[0mi\u001b[0m\u001b[0;34m,\u001b[0m \u001b[0mv\u001b[0m \u001b[0;32min\u001b[0m \u001b[0menumerate\u001b[0m\u001b[0;34m(\u001b[0m\u001b[0mseries_gen\u001b[0m\u001b[0;34m)\u001b[0m\u001b[0;34m:\u001b[0m\u001b[0;34m\u001b[0m\u001b[0;34m\u001b[0m\u001b[0m\n\u001b[0;32m--> 286\u001b[0;31m                     \u001b[0mresults\u001b[0m\u001b[0;34m[\u001b[0m\u001b[0mi\u001b[0m\u001b[0;34m]\u001b[0m \u001b[0;34m=\u001b[0m \u001b[0mself\u001b[0m\u001b[0;34m.\u001b[0m\u001b[0mf\u001b[0m\u001b[0;34m(\u001b[0m\u001b[0mv\u001b[0m\u001b[0;34m)\u001b[0m\u001b[0;34m\u001b[0m\u001b[0;34m\u001b[0m\u001b[0m\n\u001b[0m\u001b[1;32m    287\u001b[0m                     \u001b[0mkeys\u001b[0m\u001b[0;34m.\u001b[0m\u001b[0mappend\u001b[0m\u001b[0;34m(\u001b[0m\u001b[0mv\u001b[0m\u001b[0;34m.\u001b[0m\u001b[0mname\u001b[0m\u001b[0;34m)\u001b[0m\u001b[0;34m\u001b[0m\u001b[0;34m\u001b[0m\u001b[0m\n\u001b[1;32m    288\u001b[0m             \u001b[0;32mexcept\u001b[0m \u001b[0mException\u001b[0m \u001b[0;32mas\u001b[0m \u001b[0me\u001b[0m\u001b[0;34m:\u001b[0m\u001b[0;34m\u001b[0m\u001b[0;34m\u001b[0m\u001b[0m\n",
      "\u001b[0;32m<ipython-input-739-98e4db31a46f>\u001b[0m in \u001b[0;36m<lambda>\u001b[0;34m(row)\u001b[0m\n\u001b[1;32m     53\u001b[0m \u001b[0;34m\u001b[0m\u001b[0m\n\u001b[1;32m     54\u001b[0m     \u001b[0;31m# Create a new column called 'closest_major_city'\u001b[0m\u001b[0;34m\u001b[0m\u001b[0;34m\u001b[0m\u001b[0;34m\u001b[0m\u001b[0m\n\u001b[0;32m---> 55\u001b[0;31m     \u001b[0mdf_location3\u001b[0m\u001b[0;34m[\u001b[0m\u001b[0;34m'closest_major_city'\u001b[0m\u001b[0;34m]\u001b[0m \u001b[0;34m=\u001b[0m \u001b[0mdf_location3\u001b[0m\u001b[0;34m.\u001b[0m\u001b[0mapply\u001b[0m\u001b[0;34m(\u001b[0m\u001b[0;32mlambda\u001b[0m \u001b[0mrow\u001b[0m\u001b[0;34m:\u001b[0m \u001b[0mget_closest_major_city_for_US\u001b[0m\u001b[0;34m(\u001b[0m\u001b[0mrow\u001b[0m\u001b[0;34m)\u001b[0m\u001b[0;34m)\u001b[0m\u001b[0;34m\u001b[0m\u001b[0;34m\u001b[0m\u001b[0m\n\u001b[0m\u001b[1;32m     56\u001b[0m \u001b[0;34m\u001b[0m\u001b[0m\n",
      "\u001b[0;32m<ipython-input-739-98e4db31a46f>\u001b[0m in \u001b[0;36mget_closest_major_city_for_US\u001b[0;34m(row)\u001b[0m\n\u001b[1;32m     45\u001b[0m \u001b[0;31m#         return 'NOT_IN_US, NONE'\u001b[0m\u001b[0;34m\u001b[0m\u001b[0;34m\u001b[0m\u001b[0;34m\u001b[0m\u001b[0m\n\u001b[1;32m     46\u001b[0m \u001b[0;31m#     else:\u001b[0m\u001b[0;34m\u001b[0m\u001b[0;34m\u001b[0m\u001b[0;34m\u001b[0m\u001b[0m\n\u001b[0;32m---> 47\u001b[0;31m     \u001b[0;32mreturn\u001b[0m \u001b[0mclosest_major_city\u001b[0m\u001b[0;34m(\u001b[0m\u001b[0mrow\u001b[0m\u001b[0;34m[\u001b[0m\u001b[0;34m'centroid'\u001b[0m\u001b[0;34m]\u001b[0m\u001b[0;34m)\u001b[0m\u001b[0;34m\u001b[0m\u001b[0;34m\u001b[0m\u001b[0m\n\u001b[0m\u001b[1;32m     48\u001b[0m \u001b[0;34m\u001b[0m\u001b[0m\n\u001b[1;32m     49\u001b[0m \u001b[0;32mif\u001b[0m \u001b[0m__name__\u001b[0m \u001b[0;34m==\u001b[0m \u001b[0;34m\"__main__\"\u001b[0m\u001b[0;34m:\u001b[0m\u001b[0;34m\u001b[0m\u001b[0;34m\u001b[0m\u001b[0m\n",
      "\u001b[0;32m/anaconda3/lib/python3.7/site-packages/pandas/core/series.py\u001b[0m in \u001b[0;36m__getitem__\u001b[0;34m(self, key)\u001b[0m\n\u001b[1;32m    866\u001b[0m         \u001b[0mkey\u001b[0m \u001b[0;34m=\u001b[0m \u001b[0mcom\u001b[0m\u001b[0;34m.\u001b[0m\u001b[0mapply_if_callable\u001b[0m\u001b[0;34m(\u001b[0m\u001b[0mkey\u001b[0m\u001b[0;34m,\u001b[0m \u001b[0mself\u001b[0m\u001b[0;34m)\u001b[0m\u001b[0;34m\u001b[0m\u001b[0;34m\u001b[0m\u001b[0m\n\u001b[1;32m    867\u001b[0m         \u001b[0;32mtry\u001b[0m\u001b[0;34m:\u001b[0m\u001b[0;34m\u001b[0m\u001b[0;34m\u001b[0m\u001b[0m\n\u001b[0;32m--> 868\u001b[0;31m             \u001b[0mresult\u001b[0m \u001b[0;34m=\u001b[0m \u001b[0mself\u001b[0m\u001b[0;34m.\u001b[0m\u001b[0mindex\u001b[0m\u001b[0;34m.\u001b[0m\u001b[0mget_value\u001b[0m\u001b[0;34m(\u001b[0m\u001b[0mself\u001b[0m\u001b[0;34m,\u001b[0m \u001b[0mkey\u001b[0m\u001b[0;34m)\u001b[0m\u001b[0;34m\u001b[0m\u001b[0;34m\u001b[0m\u001b[0m\n\u001b[0m\u001b[1;32m    869\u001b[0m \u001b[0;34m\u001b[0m\u001b[0m\n\u001b[1;32m    870\u001b[0m             \u001b[0;32mif\u001b[0m \u001b[0;32mnot\u001b[0m \u001b[0mis_scalar\u001b[0m\u001b[0;34m(\u001b[0m\u001b[0mresult\u001b[0m\u001b[0;34m)\u001b[0m\u001b[0;34m:\u001b[0m\u001b[0;34m\u001b[0m\u001b[0;34m\u001b[0m\u001b[0m\n",
      "\u001b[0;32m/anaconda3/lib/python3.7/site-packages/pandas/core/indexes/base.py\u001b[0m in \u001b[0;36mget_value\u001b[0;34m(self, series, key)\u001b[0m\n\u001b[1;32m   4373\u001b[0m         \u001b[0;32mtry\u001b[0m\u001b[0;34m:\u001b[0m\u001b[0;34m\u001b[0m\u001b[0;34m\u001b[0m\u001b[0m\n\u001b[1;32m   4374\u001b[0m             return self._engine.get_value(s, k,\n\u001b[0;32m-> 4375\u001b[0;31m                                           tz=getattr(series.dtype, 'tz', None))\n\u001b[0m\u001b[1;32m   4376\u001b[0m         \u001b[0;32mexcept\u001b[0m \u001b[0mKeyError\u001b[0m \u001b[0;32mas\u001b[0m \u001b[0me1\u001b[0m\u001b[0;34m:\u001b[0m\u001b[0;34m\u001b[0m\u001b[0;34m\u001b[0m\u001b[0m\n\u001b[1;32m   4377\u001b[0m             \u001b[0;32mif\u001b[0m \u001b[0mlen\u001b[0m\u001b[0;34m(\u001b[0m\u001b[0mself\u001b[0m\u001b[0;34m)\u001b[0m \u001b[0;34m>\u001b[0m \u001b[0;36m0\u001b[0m \u001b[0;32mand\u001b[0m \u001b[0;34m(\u001b[0m\u001b[0mself\u001b[0m\u001b[0;34m.\u001b[0m\u001b[0mholds_integer\u001b[0m\u001b[0;34m(\u001b[0m\u001b[0;34m)\u001b[0m \u001b[0;32mor\u001b[0m \u001b[0mself\u001b[0m\u001b[0;34m.\u001b[0m\u001b[0mis_boolean\u001b[0m\u001b[0;34m(\u001b[0m\u001b[0;34m)\u001b[0m\u001b[0;34m)\u001b[0m\u001b[0;34m:\u001b[0m\u001b[0;34m\u001b[0m\u001b[0;34m\u001b[0m\u001b[0m\n",
      "\u001b[0;32mpandas/_libs/index.pyx\u001b[0m in \u001b[0;36mpandas._libs.index.IndexEngine.get_value\u001b[0;34m()\u001b[0m\n",
      "\u001b[0;32mpandas/_libs/index.pyx\u001b[0m in \u001b[0;36mpandas._libs.index.IndexEngine.get_value\u001b[0;34m()\u001b[0m\n",
      "\u001b[0;32mpandas/_libs/index.pyx\u001b[0m in \u001b[0;36mpandas._libs.index.IndexEngine.get_loc\u001b[0;34m()\u001b[0m\n",
      "\u001b[0;32mpandas/_libs/index_class_helper.pxi\u001b[0m in \u001b[0;36mpandas._libs.index.Int64Engine._check_type\u001b[0;34m()\u001b[0m\n",
      "\u001b[0;31mKeyError\u001b[0m: ('centroid', 'occurred at index id_str')"
     ]
    }
   ],
   "source": [
    "import numpy as np\n",
    "import pickle\n",
    "\n",
    "def load_US_coord_dict():\n",
    "    '''\n",
    "    Input: n/a\n",
    "    Output: A dictionary whose keys are the location names ('City, State') of the \n",
    "    378 US classification locations and the values are the centroids for those locations\n",
    "    (latitude, longittude)\n",
    "    '''\n",
    "\n",
    "    pkl_file = open(\"GeoData/US_coord_dict.pkl\", 'rb')\n",
    "    US_coord_dict = pickle.load(pkl_file)\n",
    "    pkl_file.close()\n",
    "    return US_coord_dict\n",
    "\n",
    "def find_dist_between(tup1, tup2):\n",
    "    '''\n",
    "    INPUT: Two tuples of latitude, longitude coordinates pairs for two cities\n",
    "    OUTPUT: The distance between the cities\n",
    "    '''\n",
    "    \n",
    "    return np.sqrt((tup1[0] - tup2[0])**2 + (tup1[1] - tup2[1])**2)\n",
    "\n",
    "def closest_major_city(tup):\n",
    "    '''\n",
    "    INPUT: A tuple of the centroid coordinates for the tweet to remap to the closest major city\n",
    "    OUTPUT: String, 'City, State', of the city in the dictionary 'coord_dict' that is closest to the input city \n",
    "    '''\n",
    "    \n",
    "    d={}\n",
    "    for key, value in US_coord_dict.items():\n",
    "        dist = find_dist_between(tup, value)\n",
    "        if key not in d:\n",
    "            d[key] = dist\n",
    "    return min(d, key=d.get)\n",
    "\n",
    "def get_closest_major_city_for_US(row):\n",
    "    '''\n",
    "    Helper function to return the closest major city for US users only. For users\n",
    "    outside the US it returns 'NOT_IN_US, NONE' \n",
    "    '''\n",
    "    \n",
    "#     if row['geo_location'] == 'NOT_IN_US, NONE':\n",
    "#         return 'NOT_IN_US, NONE'\n",
    "#     else:\n",
    "    return closest_major_city(row['centroid'])\n",
    "    \n",
    "if __name__ == \"__main__\":\n",
    "\n",
    "    # Load US_coord_dict\n",
    "    US_coord_dict = load_US_coord_dict()\n",
    "\n",
    "    # Create a new column called 'closest_major_city'\n",
    "    df_location3['closest_major_city'] = df_location3.apply(lambda row: get_closest_major_city_for_US(row), axis=1)\n",
    "    "
   ]
  },
  {
   "cell_type": "code",
   "execution_count": 740,
   "metadata": {},
   "outputs": [
    {
     "data": {
      "text/plain": [
       "0     [[[-82.901433, 42.578183], [-82.901433, 42.617...\n",
       "1     [[[-98.778559, 29.141956], [-98.778559, 29.693...\n",
       "2     [[[-117.967313, 34.001861], [-117.967313, 34.0...\n",
       "3     [[[-71.191421, 42.227797], [-71.191421, 42.399...\n",
       "4     [[[-73.285247, 40.705724000000004], [-73.28524...\n",
       "5     [[[-79.76259, 40.477383], [-79.76259, 45.01585...\n",
       "6     [[[-95.438435, 29.497739], [-95.438435, 29.598...\n",
       "7     [[[-96.234587, 41.175884], [-96.234587, 41.375...\n",
       "8     [[[-121.416872, 37.883347], [-121.416872, 38.0...\n",
       "9     [[[-179.231086, 13.182335], [-179.231086, 71.4...\n",
       "10    [[[-84.820309, 38.403186], [-84.820309, 42.327...\n",
       "11    [[[-89.57151, 36.497129], [-89.57151, 39.14735...\n",
       "12    [[[-88.097892, 37.771743], [-88.097892, 41.761...\n",
       "13    [[[-90.418108, 41.696088], [-90.418108, 48.306...\n",
       "14    [[[-95.774704, 35.995476], [-95.774704, 40.613...\n",
       "15    [[[-91.51308, 36.970298], [-91.51308, 42.50830...\n",
       "16    [[[-91.51308, 36.970298], [-91.51308, 42.50830...\n",
       "17    [[[-118.668404, 33.704538], [-118.668404, 34.3...\n",
       "18    [[[-83.67529, 36.540739], [-83.67529, 39.46601...\n",
       "19    [[[-78.801819, 42.803843], [-78.801819, 42.874...\n",
       "20    [[[-96.234587, 41.175884], [-96.234587, 41.375...\n",
       "21    [[[-93.528854, 45.064772], [-93.528854, 45.152...\n",
       "22    [[[-102.051769, 36.99311], [-102.051769, 40.00...\n",
       "23    [[[-81.373433, 28.726142], [-81.373433, 28.788...\n",
       "24    [[[-88.99314, 39.907709], [-88.99314, 39.94160...\n",
       "25    [[[-81.373433, 28.726142], [-81.373433, 28.788...\n",
       "26    [[[-105.109815, 39.614151], [-105.109815, 39.8...\n",
       "27    [[[-96.234587, 41.175884], [-96.234587, 41.375...\n",
       "28    [[[-74.146932, 40.643773], [-74.146932, 40.697...\n",
       "29    [[[-95.661376, 30.10764], [-95.661376, 30.2548...\n",
       "30    [[[-117.282538, 32.53962], [-117.282538, 33.08...\n",
       "31    [[[-74.026675, 40.683935], [-74.026675, 40.877...\n",
       "32    [[[-98.778559, 29.141956], [-98.778559, 29.693...\n",
       "33    [[[-83.913917, 42.415445], [-83.913917, 42.514...\n",
       "Name: bounding_box, dtype: object"
      ]
     },
     "execution_count": 740,
     "metadata": {},
     "output_type": "execute_result"
    }
   ],
   "source": [
    "# find nearest city using bouding_box\n",
    "bounding_box = df_location3[\"bounding_box\"]\n",
    "bounding_box"
   ]
  },
  {
   "cell_type": "code",
   "execution_count": 691,
   "metadata": {},
   "outputs": [],
   "source": [
    "# clean DF to use is df_location3 and document_v for scores\n",
    "# documents_v.drop(['text_clean'] ,axis=1, inplace=True)\n",
    "prediction = pd.concat([df_location3, documents_v], axis=1)\n",
    "prediction2 = prediction.groupby(['name','sentiment'])['polarity'].mean()\n",
    "prediction2 = pd.DataFrame(prediction2)\n",
    "prediction3 = prediction2.pivot_table(index='name', columns=\"sentiment\", values='polarity')\n",
    "prediction3 =  prediction3.rename_axis(None, axis=1).reset_index() \n",
    "prediction4 = prediction3.rename(columns = {\"index\": 'PlaceName'})"
   ]
  },
  {
   "cell_type": "code",
   "execution_count": 694,
   "metadata": {},
   "outputs": [
    {
     "data": {
      "text/html": [
       "<div>\n",
       "<style scoped>\n",
       "    .dataframe tbody tr th:only-of-type {\n",
       "        vertical-align: middle;\n",
       "    }\n",
       "\n",
       "    .dataframe tbody tr th {\n",
       "        vertical-align: top;\n",
       "    }\n",
       "\n",
       "    .dataframe thead th {\n",
       "        text-align: right;\n",
       "    }\n",
       "</style>\n",
       "<table border=\"1\" class=\"dataframe\">\n",
       "  <thead>\n",
       "    <tr style=\"text-align: right;\">\n",
       "      <th></th>\n",
       "      <th>name</th>\n",
       "      <th>negative</th>\n",
       "      <th>neutral</th>\n",
       "      <th>positive</th>\n",
       "    </tr>\n",
       "  </thead>\n",
       "  <tbody>\n",
       "    <tr>\n",
       "      <th>0</th>\n",
       "      <td>Bay Shore</td>\n",
       "      <td>NaN</td>\n",
       "      <td>0.0</td>\n",
       "      <td>NaN</td>\n",
       "    </tr>\n",
       "    <tr>\n",
       "      <th>1</th>\n",
       "      <td>Bayonne</td>\n",
       "      <td>NaN</td>\n",
       "      <td>0.0</td>\n",
       "      <td>NaN</td>\n",
       "    </tr>\n",
       "    <tr>\n",
       "      <th>2</th>\n",
       "      <td>Boston</td>\n",
       "      <td>NaN</td>\n",
       "      <td>0.0</td>\n",
       "      <td>NaN</td>\n",
       "    </tr>\n",
       "    <tr>\n",
       "      <th>3</th>\n",
       "      <td>Denver</td>\n",
       "      <td>NaN</td>\n",
       "      <td>0.0</td>\n",
       "      <td>NaN</td>\n",
       "    </tr>\n",
       "    <tr>\n",
       "      <th>4</th>\n",
       "      <td>Forsyth</td>\n",
       "      <td>-0.200000</td>\n",
       "      <td>NaN</td>\n",
       "      <td>NaN</td>\n",
       "    </tr>\n",
       "    <tr>\n",
       "      <th>5</th>\n",
       "      <td>Illinois</td>\n",
       "      <td>-0.266667</td>\n",
       "      <td>NaN</td>\n",
       "      <td>NaN</td>\n",
       "    </tr>\n",
       "    <tr>\n",
       "      <th>6</th>\n",
       "      <td>Indiana</td>\n",
       "      <td>NaN</td>\n",
       "      <td>NaN</td>\n",
       "      <td>0.200</td>\n",
       "    </tr>\n",
       "    <tr>\n",
       "      <th>7</th>\n",
       "      <td>Kansas</td>\n",
       "      <td>NaN</td>\n",
       "      <td>0.0</td>\n",
       "      <td>NaN</td>\n",
       "    </tr>\n",
       "    <tr>\n",
       "      <th>8</th>\n",
       "      <td>Kentucky</td>\n",
       "      <td>NaN</td>\n",
       "      <td>NaN</td>\n",
       "      <td>0.350</td>\n",
       "    </tr>\n",
       "    <tr>\n",
       "      <th>9</th>\n",
       "      <td>Lake Mary</td>\n",
       "      <td>NaN</td>\n",
       "      <td>NaN</td>\n",
       "      <td>0.200</td>\n",
       "    </tr>\n",
       "    <tr>\n",
       "      <th>10</th>\n",
       "      <td>Lakeland</td>\n",
       "      <td>NaN</td>\n",
       "      <td>NaN</td>\n",
       "      <td>1.000</td>\n",
       "    </tr>\n",
       "    <tr>\n",
       "      <th>11</th>\n",
       "      <td>Los Angeles</td>\n",
       "      <td>NaN</td>\n",
       "      <td>NaN</td>\n",
       "      <td>0.500</td>\n",
       "    </tr>\n",
       "    <tr>\n",
       "      <th>12</th>\n",
       "      <td>Manhattan</td>\n",
       "      <td>NaN</td>\n",
       "      <td>0.0</td>\n",
       "      <td>NaN</td>\n",
       "    </tr>\n",
       "    <tr>\n",
       "      <th>13</th>\n",
       "      <td>Maple Grove</td>\n",
       "      <td>-0.100000</td>\n",
       "      <td>NaN</td>\n",
       "      <td>NaN</td>\n",
       "    </tr>\n",
       "    <tr>\n",
       "      <th>14</th>\n",
       "      <td>Michigan</td>\n",
       "      <td>NaN</td>\n",
       "      <td>NaN</td>\n",
       "      <td>0.400</td>\n",
       "    </tr>\n",
       "    <tr>\n",
       "      <th>15</th>\n",
       "      <td>Missouri</td>\n",
       "      <td>NaN</td>\n",
       "      <td>NaN</td>\n",
       "      <td>0.450</td>\n",
       "    </tr>\n",
       "    <tr>\n",
       "      <th>16</th>\n",
       "      <td>Mount Clemens</td>\n",
       "      <td>-0.291667</td>\n",
       "      <td>NaN</td>\n",
       "      <td>NaN</td>\n",
       "    </tr>\n",
       "    <tr>\n",
       "      <th>17</th>\n",
       "      <td>New York</td>\n",
       "      <td>NaN</td>\n",
       "      <td>NaN</td>\n",
       "      <td>0.300</td>\n",
       "    </tr>\n",
       "    <tr>\n",
       "      <th>18</th>\n",
       "      <td>Ohio</td>\n",
       "      <td>NaN</td>\n",
       "      <td>NaN</td>\n",
       "      <td>0.400</td>\n",
       "    </tr>\n",
       "    <tr>\n",
       "      <th>19</th>\n",
       "      <td>Omaha</td>\n",
       "      <td>NaN</td>\n",
       "      <td>NaN</td>\n",
       "      <td>0.700</td>\n",
       "    </tr>\n",
       "    <tr>\n",
       "      <th>20</th>\n",
       "      <td>Pearland</td>\n",
       "      <td>NaN</td>\n",
       "      <td>NaN</td>\n",
       "      <td>0.175</td>\n",
       "    </tr>\n",
       "    <tr>\n",
       "      <th>21</th>\n",
       "      <td>San Antonio</td>\n",
       "      <td>-0.500000</td>\n",
       "      <td>NaN</td>\n",
       "      <td>0.525</td>\n",
       "    </tr>\n",
       "    <tr>\n",
       "      <th>22</th>\n",
       "      <td>San Diego</td>\n",
       "      <td>NaN</td>\n",
       "      <td>0.0</td>\n",
       "      <td>NaN</td>\n",
       "    </tr>\n",
       "    <tr>\n",
       "      <th>23</th>\n",
       "      <td>Stockton</td>\n",
       "      <td>NaN</td>\n",
       "      <td>NaN</td>\n",
       "      <td>0.600</td>\n",
       "    </tr>\n",
       "    <tr>\n",
       "      <th>24</th>\n",
       "      <td>The Woodlands</td>\n",
       "      <td>NaN</td>\n",
       "      <td>NaN</td>\n",
       "      <td>0.700</td>\n",
       "    </tr>\n",
       "    <tr>\n",
       "      <th>25</th>\n",
       "      <td>United States</td>\n",
       "      <td>NaN</td>\n",
       "      <td>NaN</td>\n",
       "      <td>0.575</td>\n",
       "    </tr>\n",
       "    <tr>\n",
       "      <th>26</th>\n",
       "      <td>Virginia</td>\n",
       "      <td>-0.300000</td>\n",
       "      <td>NaN</td>\n",
       "      <td>NaN</td>\n",
       "    </tr>\n",
       "    <tr>\n",
       "      <th>27</th>\n",
       "      <td>West Covina</td>\n",
       "      <td>NaN</td>\n",
       "      <td>0.0</td>\n",
       "      <td>NaN</td>\n",
       "    </tr>\n",
       "    <tr>\n",
       "      <th>28</th>\n",
       "      <td>West Seneca</td>\n",
       "      <td>-0.291667</td>\n",
       "      <td>NaN</td>\n",
       "      <td>NaN</td>\n",
       "    </tr>\n",
       "  </tbody>\n",
       "</table>\n",
       "</div>"
      ],
      "text/plain": [
       "             name  negative  neutral  positive\n",
       "0       Bay Shore       NaN      0.0       NaN\n",
       "1         Bayonne       NaN      0.0       NaN\n",
       "2          Boston       NaN      0.0       NaN\n",
       "3          Denver       NaN      0.0       NaN\n",
       "4         Forsyth -0.200000      NaN       NaN\n",
       "5        Illinois -0.266667      NaN       NaN\n",
       "6         Indiana       NaN      NaN     0.200\n",
       "7          Kansas       NaN      0.0       NaN\n",
       "8        Kentucky       NaN      NaN     0.350\n",
       "9       Lake Mary       NaN      NaN     0.200\n",
       "10       Lakeland       NaN      NaN     1.000\n",
       "11    Los Angeles       NaN      NaN     0.500\n",
       "12      Manhattan       NaN      0.0       NaN\n",
       "13    Maple Grove -0.100000      NaN       NaN\n",
       "14       Michigan       NaN      NaN     0.400\n",
       "15       Missouri       NaN      NaN     0.450\n",
       "16  Mount Clemens -0.291667      NaN       NaN\n",
       "17       New York       NaN      NaN     0.300\n",
       "18           Ohio       NaN      NaN     0.400\n",
       "19          Omaha       NaN      NaN     0.700\n",
       "20       Pearland       NaN      NaN     0.175\n",
       "21    San Antonio -0.500000      NaN     0.525\n",
       "22      San Diego       NaN      0.0       NaN\n",
       "23       Stockton       NaN      NaN     0.600\n",
       "24  The Woodlands       NaN      NaN     0.700\n",
       "25  United States       NaN      NaN     0.575\n",
       "26       Virginia -0.300000      NaN       NaN\n",
       "27    West Covina       NaN      0.0       NaN\n",
       "28    West Seneca -0.291667      NaN       NaN"
      ]
     },
     "execution_count": 694,
     "metadata": {},
     "output_type": "execute_result"
    }
   ],
   "source": [
    "prediction4"
   ]
  },
  {
   "cell_type": "code",
   "execution_count": 692,
   "metadata": {},
   "outputs": [
    {
     "ename": "KeyError",
     "evalue": "'PlaceName'",
     "output_type": "error",
     "traceback": [
      "\u001b[0;31m---------------------------------------------------------------------------\u001b[0m",
      "\u001b[0;31mKeyError\u001b[0m                                  Traceback (most recent call last)",
      "\u001b[0;32m<ipython-input-692-41e05594d746>\u001b[0m in \u001b[0;36m<module>\u001b[0;34m\u001b[0m\n\u001b[0;32m----> 1\u001b[0;31m \u001b[0mprediction5\u001b[0m \u001b[0;34m=\u001b[0m \u001b[0mpd\u001b[0m\u001b[0;34m.\u001b[0m\u001b[0mmerge\u001b[0m\u001b[0;34m(\u001b[0m\u001b[0mprediction4\u001b[0m\u001b[0;34m,\u001b[0m \u001b[0mcities\u001b[0m\u001b[0;34m,\u001b[0m \u001b[0mleft_on\u001b[0m\u001b[0;34m=\u001b[0m\u001b[0;34m'PlaceName'\u001b[0m\u001b[0;34m,\u001b[0m \u001b[0mright_on\u001b[0m\u001b[0;34m=\u001b[0m\u001b[0;34m'PlaceName'\u001b[0m\u001b[0;34m)\u001b[0m\u001b[0;34m\u001b[0m\u001b[0;34m\u001b[0m\u001b[0m\n\u001b[0m",
      "\u001b[0;32m/anaconda3/lib/python3.7/site-packages/pandas/core/reshape/merge.py\u001b[0m in \u001b[0;36mmerge\u001b[0;34m(left, right, how, on, left_on, right_on, left_index, right_index, sort, suffixes, copy, indicator, validate)\u001b[0m\n\u001b[1;32m     45\u001b[0m                          \u001b[0mright_index\u001b[0m\u001b[0;34m=\u001b[0m\u001b[0mright_index\u001b[0m\u001b[0;34m,\u001b[0m \u001b[0msort\u001b[0m\u001b[0;34m=\u001b[0m\u001b[0msort\u001b[0m\u001b[0;34m,\u001b[0m \u001b[0msuffixes\u001b[0m\u001b[0;34m=\u001b[0m\u001b[0msuffixes\u001b[0m\u001b[0;34m,\u001b[0m\u001b[0;34m\u001b[0m\u001b[0;34m\u001b[0m\u001b[0m\n\u001b[1;32m     46\u001b[0m                          \u001b[0mcopy\u001b[0m\u001b[0;34m=\u001b[0m\u001b[0mcopy\u001b[0m\u001b[0;34m,\u001b[0m \u001b[0mindicator\u001b[0m\u001b[0;34m=\u001b[0m\u001b[0mindicator\u001b[0m\u001b[0;34m,\u001b[0m\u001b[0;34m\u001b[0m\u001b[0;34m\u001b[0m\u001b[0m\n\u001b[0;32m---> 47\u001b[0;31m                          validate=validate)\n\u001b[0m\u001b[1;32m     48\u001b[0m     \u001b[0;32mreturn\u001b[0m \u001b[0mop\u001b[0m\u001b[0;34m.\u001b[0m\u001b[0mget_result\u001b[0m\u001b[0;34m(\u001b[0m\u001b[0;34m)\u001b[0m\u001b[0;34m\u001b[0m\u001b[0;34m\u001b[0m\u001b[0m\n\u001b[1;32m     49\u001b[0m \u001b[0;34m\u001b[0m\u001b[0m\n",
      "\u001b[0;32m/anaconda3/lib/python3.7/site-packages/pandas/core/reshape/merge.py\u001b[0m in \u001b[0;36m__init__\u001b[0;34m(self, left, right, how, on, left_on, right_on, axis, left_index, right_index, sort, suffixes, copy, indicator, validate)\u001b[0m\n\u001b[1;32m    527\u001b[0m         (self.left_join_keys,\n\u001b[1;32m    528\u001b[0m          \u001b[0mself\u001b[0m\u001b[0;34m.\u001b[0m\u001b[0mright_join_keys\u001b[0m\u001b[0;34m,\u001b[0m\u001b[0;34m\u001b[0m\u001b[0;34m\u001b[0m\u001b[0m\n\u001b[0;32m--> 529\u001b[0;31m          self.join_names) = self._get_merge_keys()\n\u001b[0m\u001b[1;32m    530\u001b[0m \u001b[0;34m\u001b[0m\u001b[0m\n\u001b[1;32m    531\u001b[0m         \u001b[0;31m# validate the merge keys dtypes. We may need to coerce\u001b[0m\u001b[0;34m\u001b[0m\u001b[0;34m\u001b[0m\u001b[0;34m\u001b[0m\u001b[0m\n",
      "\u001b[0;32m/anaconda3/lib/python3.7/site-packages/pandas/core/reshape/merge.py\u001b[0m in \u001b[0;36m_get_merge_keys\u001b[0;34m(self)\u001b[0m\n\u001b[1;32m    844\u001b[0m                         \u001b[0mright_keys\u001b[0m\u001b[0;34m.\u001b[0m\u001b[0mappend\u001b[0m\u001b[0;34m(\u001b[0m\u001b[0mrk\u001b[0m\u001b[0;34m)\u001b[0m\u001b[0;34m\u001b[0m\u001b[0;34m\u001b[0m\u001b[0m\n\u001b[1;32m    845\u001b[0m                     \u001b[0;32mif\u001b[0m \u001b[0mlk\u001b[0m \u001b[0;32mis\u001b[0m \u001b[0;32mnot\u001b[0m \u001b[0;32mNone\u001b[0m\u001b[0;34m:\u001b[0m\u001b[0;34m\u001b[0m\u001b[0;34m\u001b[0m\u001b[0m\n\u001b[0;32m--> 846\u001b[0;31m                         \u001b[0mleft_keys\u001b[0m\u001b[0;34m.\u001b[0m\u001b[0mappend\u001b[0m\u001b[0;34m(\u001b[0m\u001b[0mleft\u001b[0m\u001b[0;34m.\u001b[0m\u001b[0m_get_label_or_level_values\u001b[0m\u001b[0;34m(\u001b[0m\u001b[0mlk\u001b[0m\u001b[0;34m)\u001b[0m\u001b[0;34m)\u001b[0m\u001b[0;34m\u001b[0m\u001b[0;34m\u001b[0m\u001b[0m\n\u001b[0m\u001b[1;32m    847\u001b[0m                         \u001b[0mjoin_names\u001b[0m\u001b[0;34m.\u001b[0m\u001b[0mappend\u001b[0m\u001b[0;34m(\u001b[0m\u001b[0mlk\u001b[0m\u001b[0;34m)\u001b[0m\u001b[0;34m\u001b[0m\u001b[0;34m\u001b[0m\u001b[0m\n\u001b[1;32m    848\u001b[0m                     \u001b[0;32melse\u001b[0m\u001b[0;34m:\u001b[0m\u001b[0;34m\u001b[0m\u001b[0;34m\u001b[0m\u001b[0m\n",
      "\u001b[0;32m/anaconda3/lib/python3.7/site-packages/pandas/core/generic.py\u001b[0m in \u001b[0;36m_get_label_or_level_values\u001b[0;34m(self, key, axis)\u001b[0m\n\u001b[1;32m   1704\u001b[0m             \u001b[0mvalues\u001b[0m \u001b[0;34m=\u001b[0m \u001b[0mself\u001b[0m\u001b[0;34m.\u001b[0m\u001b[0maxes\u001b[0m\u001b[0;34m[\u001b[0m\u001b[0maxis\u001b[0m\u001b[0;34m]\u001b[0m\u001b[0;34m.\u001b[0m\u001b[0mget_level_values\u001b[0m\u001b[0;34m(\u001b[0m\u001b[0mkey\u001b[0m\u001b[0;34m)\u001b[0m\u001b[0;34m.\u001b[0m\u001b[0m_values\u001b[0m\u001b[0;34m\u001b[0m\u001b[0;34m\u001b[0m\u001b[0m\n\u001b[1;32m   1705\u001b[0m         \u001b[0;32melse\u001b[0m\u001b[0;34m:\u001b[0m\u001b[0;34m\u001b[0m\u001b[0;34m\u001b[0m\u001b[0m\n\u001b[0;32m-> 1706\u001b[0;31m             \u001b[0;32mraise\u001b[0m \u001b[0mKeyError\u001b[0m\u001b[0;34m(\u001b[0m\u001b[0mkey\u001b[0m\u001b[0;34m)\u001b[0m\u001b[0;34m\u001b[0m\u001b[0;34m\u001b[0m\u001b[0m\n\u001b[0m\u001b[1;32m   1707\u001b[0m \u001b[0;34m\u001b[0m\u001b[0m\n\u001b[1;32m   1708\u001b[0m         \u001b[0;31m# Check for duplicates\u001b[0m\u001b[0;34m\u001b[0m\u001b[0;34m\u001b[0m\u001b[0;34m\u001b[0m\u001b[0m\n",
      "\u001b[0;31mKeyError\u001b[0m: 'PlaceName'"
     ]
    }
   ],
   "source": [
    "prediction5 = pd.merge(prediction4, cities, left_on='PlaceName', right_on='PlaceName')"
   ]
  },
  {
   "cell_type": "code",
   "execution_count": 689,
   "metadata": {},
   "outputs": [
    {
     "ename": "KeyError",
     "evalue": "\"['level_0'] not found in axis\"",
     "output_type": "error",
     "traceback": [
      "\u001b[0;31m---------------------------------------------------------------------------\u001b[0m",
      "\u001b[0;31mKeyError\u001b[0m                                  Traceback (most recent call last)",
      "\u001b[0;32m<ipython-input-689-477bcb2e6801>\u001b[0m in \u001b[0;36m<module>\u001b[0;34m\u001b[0m\n\u001b[1;32m      1\u001b[0m \u001b[0mprediction4\u001b[0m \u001b[0;34m=\u001b[0m \u001b[0mprediction3\u001b[0m\u001b[0;34m.\u001b[0m\u001b[0mrename\u001b[0m\u001b[0;34m(\u001b[0m\u001b[0mcolumns\u001b[0m \u001b[0;34m=\u001b[0m \u001b[0;34m{\u001b[0m\u001b[0;34m\"index\"\u001b[0m\u001b[0;34m:\u001b[0m \u001b[0;34m'PlaceName'\u001b[0m\u001b[0;34m}\u001b[0m\u001b[0;34m)\u001b[0m\u001b[0;34m\u001b[0m\u001b[0;34m\u001b[0m\u001b[0m\n\u001b[0;32m----> 2\u001b[0;31m \u001b[0mprediction4\u001b[0m\u001b[0;34m.\u001b[0m\u001b[0mdrop\u001b[0m\u001b[0;34m(\u001b[0m\u001b[0;34m[\u001b[0m\u001b[0;34m\"level_0\"\u001b[0m\u001b[0;34m]\u001b[0m\u001b[0;34m)\u001b[0m\u001b[0;34m\u001b[0m\u001b[0;34m\u001b[0m\u001b[0m\n\u001b[0m",
      "\u001b[0;32m/anaconda3/lib/python3.7/site-packages/pandas/core/frame.py\u001b[0m in \u001b[0;36mdrop\u001b[0;34m(self, labels, axis, index, columns, level, inplace, errors)\u001b[0m\n\u001b[1;32m   3938\u001b[0m                                            \u001b[0mindex\u001b[0m\u001b[0;34m=\u001b[0m\u001b[0mindex\u001b[0m\u001b[0;34m,\u001b[0m \u001b[0mcolumns\u001b[0m\u001b[0;34m=\u001b[0m\u001b[0mcolumns\u001b[0m\u001b[0;34m,\u001b[0m\u001b[0;34m\u001b[0m\u001b[0;34m\u001b[0m\u001b[0m\n\u001b[1;32m   3939\u001b[0m                                            \u001b[0mlevel\u001b[0m\u001b[0;34m=\u001b[0m\u001b[0mlevel\u001b[0m\u001b[0;34m,\u001b[0m \u001b[0minplace\u001b[0m\u001b[0;34m=\u001b[0m\u001b[0minplace\u001b[0m\u001b[0;34m,\u001b[0m\u001b[0;34m\u001b[0m\u001b[0;34m\u001b[0m\u001b[0m\n\u001b[0;32m-> 3940\u001b[0;31m                                            errors=errors)\n\u001b[0m\u001b[1;32m   3941\u001b[0m \u001b[0;34m\u001b[0m\u001b[0m\n\u001b[1;32m   3942\u001b[0m     @rewrite_axis_style_signature('mapper', [('copy', True),\n",
      "\u001b[0;32m/anaconda3/lib/python3.7/site-packages/pandas/core/generic.py\u001b[0m in \u001b[0;36mdrop\u001b[0;34m(self, labels, axis, index, columns, level, inplace, errors)\u001b[0m\n\u001b[1;32m   3778\u001b[0m         \u001b[0;32mfor\u001b[0m \u001b[0maxis\u001b[0m\u001b[0;34m,\u001b[0m \u001b[0mlabels\u001b[0m \u001b[0;32min\u001b[0m \u001b[0maxes\u001b[0m\u001b[0;34m.\u001b[0m\u001b[0mitems\u001b[0m\u001b[0;34m(\u001b[0m\u001b[0;34m)\u001b[0m\u001b[0;34m:\u001b[0m\u001b[0;34m\u001b[0m\u001b[0;34m\u001b[0m\u001b[0m\n\u001b[1;32m   3779\u001b[0m             \u001b[0;32mif\u001b[0m \u001b[0mlabels\u001b[0m \u001b[0;32mis\u001b[0m \u001b[0;32mnot\u001b[0m \u001b[0;32mNone\u001b[0m\u001b[0;34m:\u001b[0m\u001b[0;34m\u001b[0m\u001b[0;34m\u001b[0m\u001b[0m\n\u001b[0;32m-> 3780\u001b[0;31m                 \u001b[0mobj\u001b[0m \u001b[0;34m=\u001b[0m \u001b[0mobj\u001b[0m\u001b[0;34m.\u001b[0m\u001b[0m_drop_axis\u001b[0m\u001b[0;34m(\u001b[0m\u001b[0mlabels\u001b[0m\u001b[0;34m,\u001b[0m \u001b[0maxis\u001b[0m\u001b[0;34m,\u001b[0m \u001b[0mlevel\u001b[0m\u001b[0;34m=\u001b[0m\u001b[0mlevel\u001b[0m\u001b[0;34m,\u001b[0m \u001b[0merrors\u001b[0m\u001b[0;34m=\u001b[0m\u001b[0merrors\u001b[0m\u001b[0;34m)\u001b[0m\u001b[0;34m\u001b[0m\u001b[0;34m\u001b[0m\u001b[0m\n\u001b[0m\u001b[1;32m   3781\u001b[0m \u001b[0;34m\u001b[0m\u001b[0m\n\u001b[1;32m   3782\u001b[0m         \u001b[0;32mif\u001b[0m \u001b[0minplace\u001b[0m\u001b[0;34m:\u001b[0m\u001b[0;34m\u001b[0m\u001b[0;34m\u001b[0m\u001b[0m\n",
      "\u001b[0;32m/anaconda3/lib/python3.7/site-packages/pandas/core/generic.py\u001b[0m in \u001b[0;36m_drop_axis\u001b[0;34m(self, labels, axis, level, errors)\u001b[0m\n\u001b[1;32m   3810\u001b[0m                 \u001b[0mnew_axis\u001b[0m \u001b[0;34m=\u001b[0m \u001b[0maxis\u001b[0m\u001b[0;34m.\u001b[0m\u001b[0mdrop\u001b[0m\u001b[0;34m(\u001b[0m\u001b[0mlabels\u001b[0m\u001b[0;34m,\u001b[0m \u001b[0mlevel\u001b[0m\u001b[0;34m=\u001b[0m\u001b[0mlevel\u001b[0m\u001b[0;34m,\u001b[0m \u001b[0merrors\u001b[0m\u001b[0;34m=\u001b[0m\u001b[0merrors\u001b[0m\u001b[0;34m)\u001b[0m\u001b[0;34m\u001b[0m\u001b[0;34m\u001b[0m\u001b[0m\n\u001b[1;32m   3811\u001b[0m             \u001b[0;32melse\u001b[0m\u001b[0;34m:\u001b[0m\u001b[0;34m\u001b[0m\u001b[0;34m\u001b[0m\u001b[0m\n\u001b[0;32m-> 3812\u001b[0;31m                 \u001b[0mnew_axis\u001b[0m \u001b[0;34m=\u001b[0m \u001b[0maxis\u001b[0m\u001b[0;34m.\u001b[0m\u001b[0mdrop\u001b[0m\u001b[0;34m(\u001b[0m\u001b[0mlabels\u001b[0m\u001b[0;34m,\u001b[0m \u001b[0merrors\u001b[0m\u001b[0;34m=\u001b[0m\u001b[0merrors\u001b[0m\u001b[0;34m)\u001b[0m\u001b[0;34m\u001b[0m\u001b[0;34m\u001b[0m\u001b[0m\n\u001b[0m\u001b[1;32m   3813\u001b[0m             \u001b[0mresult\u001b[0m \u001b[0;34m=\u001b[0m \u001b[0mself\u001b[0m\u001b[0;34m.\u001b[0m\u001b[0mreindex\u001b[0m\u001b[0;34m(\u001b[0m\u001b[0;34m**\u001b[0m\u001b[0;34m{\u001b[0m\u001b[0maxis_name\u001b[0m\u001b[0;34m:\u001b[0m \u001b[0mnew_axis\u001b[0m\u001b[0;34m}\u001b[0m\u001b[0;34m)\u001b[0m\u001b[0;34m\u001b[0m\u001b[0;34m\u001b[0m\u001b[0m\n\u001b[1;32m   3814\u001b[0m \u001b[0;34m\u001b[0m\u001b[0m\n",
      "\u001b[0;32m/anaconda3/lib/python3.7/site-packages/pandas/core/indexes/base.py\u001b[0m in \u001b[0;36mdrop\u001b[0;34m(self, labels, errors)\u001b[0m\n\u001b[1;32m   4963\u001b[0m             \u001b[0;32mif\u001b[0m \u001b[0merrors\u001b[0m \u001b[0;34m!=\u001b[0m \u001b[0;34m'ignore'\u001b[0m\u001b[0;34m:\u001b[0m\u001b[0;34m\u001b[0m\u001b[0;34m\u001b[0m\u001b[0m\n\u001b[1;32m   4964\u001b[0m                 raise KeyError(\n\u001b[0;32m-> 4965\u001b[0;31m                     '{} not found in axis'.format(labels[mask]))\n\u001b[0m\u001b[1;32m   4966\u001b[0m             \u001b[0mindexer\u001b[0m \u001b[0;34m=\u001b[0m \u001b[0mindexer\u001b[0m\u001b[0;34m[\u001b[0m\u001b[0;34m~\u001b[0m\u001b[0mmask\u001b[0m\u001b[0;34m]\u001b[0m\u001b[0;34m\u001b[0m\u001b[0;34m\u001b[0m\u001b[0m\n\u001b[1;32m   4967\u001b[0m         \u001b[0;32mreturn\u001b[0m \u001b[0mself\u001b[0m\u001b[0;34m.\u001b[0m\u001b[0mdelete\u001b[0m\u001b[0;34m(\u001b[0m\u001b[0mindexer\u001b[0m\u001b[0;34m)\u001b[0m\u001b[0;34m\u001b[0m\u001b[0;34m\u001b[0m\u001b[0m\n",
      "\u001b[0;31mKeyError\u001b[0m: \"['level_0'] not found in axis\""
     ]
    }
   ],
   "source": []
  },
  {
   "cell_type": "code",
   "execution_count": null,
   "metadata": {},
   "outputs": [],
   "source": [
    "#merge to cities "
   ]
  }
 ],
 "metadata": {
  "kernelspec": {
   "display_name": "Python 3",
   "language": "python",
   "name": "python3"
  },
  "language_info": {
   "codemirror_mode": {
    "name": "ipython",
    "version": 3
   },
   "file_extension": ".py",
   "mimetype": "text/x-python",
   "name": "python",
   "nbconvert_exporter": "python",
   "pygments_lexer": "ipython3",
   "version": "3.7.3"
  }
 },
 "nbformat": 4,
 "nbformat_minor": 2
}
